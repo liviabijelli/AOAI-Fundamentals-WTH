{
  "cells": [
    {
      "cell_type": "markdown",
      "metadata": {
        "nteract": {
          "transient": {
            "deleting": false
          }
        }
      },
      "source": [
        "# Challenge 02 - OpenAI Models & Capabilities"
      ]
    },
    {
      "cell_type": "markdown",
      "metadata": {
        "nteract": {
          "transient": {
            "deleting": false
          }
        }
      },
      "source": [
        "In this challenge, you will learn about the different capabilities of OpenAI models and learn how to choose the best model for your use case.\n",
        "\n",
        "You are going to compare gpt3.5 to gpt4 model in this challenge. If you do not have gpt-4 access, you can compare the legacy models if they are deployed, or go through this challenge conceptually to understand how to best pick a model from the ones you have deployed as well as the ones in the model catalog.\n",
        "\n",
        "In a world where the availability and development of models are always changing, the model we compare may change over time. But we encourage you to understand the general concepts and material in this Challenge because the comparison techniques utilized can be applicable to scenarios where you are comparing Large Language Models.\n",
        "\n",
        "\n",
        "Questions you will be able to answer by the end of this challenge:\n",
        "\n",
        "* How do responses differ for each model?\n",
        "* What are ways to benchmark the performance of models? "
      ]
    },
    {
      "cell_type": "markdown",
      "metadata": {
        "nteract": {
          "transient": {
            "deleting": false
          }
        }
      },
      "source": [
        "## 1. Overview on finding the right model for you\n",
        "\n"
      ]
    },
    {
      "cell_type": "markdown",
      "metadata": {
        "nteract": {
          "transient": {
            "deleting": false
          }
        }
      },
      "source": [
        "### 1.1 Model Families\n",
        "\n",
        "Azure OpenAI provides access to many different models, grouped by family and capability. A model family typically associates models by their intended task. \n",
        "\n",
        "Model families currently available as of _Dec 1, 2023_ in Azure OpenAI includes GPT-4, GPT-3.5, Embeddings, DALL-E, and Whisper. Please reference this link for more information: https://learn.microsoft.com/en-us/azure/ai-services/openai/concepts/models\n",
        "\n",
        "For GPT-3 and other models retiring in July 2024, see [Azure OpenAI Service legacy models](https://learn.microsoft.com/en-us/azure/ai-services/openai/concepts/legacy-models)\n"
      ]
    },
    {
      "cell_type": "markdown",
      "metadata": {
        "nteract": {
          "transient": {
            "deleting": false
          }
        }
      },
      "source": [
        "### 1.2 Model Capacities\n",
        "#### GPT-4\n",
        "GPT-4 can solve difficult problems with greater accuracy than any of OpenAI's previous models. Like GPT-3.5 Turbo, GPT-4 is optimized for chat and works well for traditional completions tasks. Use the Chat Completions API to use GPT-4.\n",
        "\n",
        "#### GPT-3.5\n",
        "GPT-3.5 models can understand and generate natural language or code. The most capable and cost effective model in the GPT-3.5 family is GPT-3.5 Turbo, which has been optimized for chat and works well for traditional completions tasks as well. GPT-3.5 Turbo is available for use with the Chat Completions API. GPT-3.5 Turbo Instruct has similar capabilities to text-davinci-003 using the Completions API instead of the Chat Completions API. We recommend using GPT-3.5 Turbo and GPT-3.5 Turbo Instruct over legacy GPT-3.5 and GPT-3 models.\n",
        "\n",
        "`gpt-35-turbo`\n",
        "\n",
        "`gpt-35-turbo-16k`\n",
        "\n",
        "`gpt-35-turbo-instruct`\n",
        "\n",
        "You can see the token context length supported by each model in the [model summary table](https://learn.microsoft.com/en-us/azure/ai-services/openai/concepts/models#model-summary-table-and-region-availability).\n",
        "\n",
        "#### Embeddings \n",
        "The previous embeddings models have been consolidated into the following new replacement model:\n",
        "\n",
        "`text-embedding-ada-002`"
      ]
    },
    {
      "cell_type": "markdown",
      "metadata": {
        "nteract": {
          "transient": {
            "deleting": false
          }
        }
      },
      "source": [
        "\n",
        "[Azure OpenAI models](https://learn.microsoft.com/en-us/azure/cognitive-services/openai/concepts/models)  \n",
        "\n",
        "\n",
        "| Models | Description |\n",
        "| --- | --- |\n",
        "| GPT-4 | A set of models that improve on GPT-3.5 and can understand and generate natural language and code. | \n",
        "| GPT-3.5 | A set of models that improve on GPT-3 and can understand and generate natural language and code. | \n",
        "| Embeddings | A set of models that can convert text into numerical vector form to facilitate text similarity. | \n"
      ]
    },
    {
      "cell_type": "markdown",
      "metadata": {
        "nteract": {
          "transient": {
            "deleting": false
          }
        }
      },
      "source": [
        "### 1.3 Pricing Details\n",
        "\n",
        "For the most up-to-date information, check out the Azure OpenAI [pricing page](https://azure.microsoft.com/en-us/pricing/details/cognitive-services/openai-service/).\n",
        "\n"
      ]
    },
    {
      "cell_type": "markdown",
      "metadata": {
        "nteract": {
          "transient": {
            "deleting": false
          }
        }
      },
      "source": [
        "### 1.4 Quotas and Limits\n",
        "\n",
        "*The below limits are subject to change. We anticipate that you will need higher limits as you move toward production and your solution scales. When you know your solution requirements, please reach out to us by applying for a quota increase here: https://aka.ms/oai/quotaincrease\n",
        "\n",
        "|Limit Name\t|Limit Value|\n",
        "|---|---|\n",
        "|OpenAI resources per region per Azure subscription|\t30|\n",
        "| Default DALL-E 2 quota limits| 2 concurrent requests |\n",
        "| Default DALL-E 3 quota limits  | 2 capacity units (6 requests per minute)|\n",
        "|Maximum prompt tokens per request| Varies per model, see [Azure OpenAI Service models](https://learn.microsoft.com/en-us/azure/ai-services/openai/concepts/models) |\n",
        "|Max fine-tuned model deployments|5|\n",
        "|Total number of training jobs per resource|\t100|\n",
        "|Max simultaneous running training jobs per resource|\t1|\n",
        "|Max training jobs queued\t|20|\n",
        "|Max Files per resource\t|30|\n",
        "|Total size of all files per resource\t|1 GB|\n",
        "|Max training job time (job will fail if exceeded)\t|720 hours|\n",
        "|Max training job size (tokens in training file) x (# of epochs)\t|2 Billion|\n",
        "|Max size of all files per upload (Azure OpenAI on your data)\t|16 MB|"
      ]
    },
    {
      "cell_type": "markdown",
      "metadata": {
        "nteract": {
          "transient": {
            "deleting": false
          }
        }
      },
      "source": [
        "### 1.5 Model Selection\n",
        "\n",
        "Here is some general guidance on well-suited scenarios that tend to differentiate models. Note that these are not hard and fast rules, and oftentimes experimentation and benchmarking are important to making the best decision for your solution.\n",
        "\n",
        "|Model|Use Cases|\n",
        "|---|---|\n",
        "|GPT-3.5| Faster/cheaper app performance; <br/>More quota allocated by default|\n",
        "|GPT-4| More advanced reasoning or logical processing needed; <br/> 32k token window is an absolut must; <br/>Multilingual proficiency needed; <br/>No hard requirement on low latency|\n"
      ]
    },
    {
      "cell_type": "markdown",
      "metadata": {
        "nteract": {
          "transient": {
            "deleting": false
          }
        }
      },
      "source": [
        "### 1.6 Model Selection Best Practices\n",
        "Our recommendation is for users to start with GPT-3.5 Turbo if identify with the use case listed above, and move to GPT-4 if needed.\n",
        "\n",
        "Once you have a prototype working, you can then optimize your model choice with the best latency/performance balance for your application."
      ]
    },
    {
      "cell_type": "markdown",
      "metadata": {
        "nteract": {
          "transient": {
            "deleting": false
          }
        }
      },
      "source": [
        "## 2. Let's Start Implementation"
      ]
    },
    {
      "cell_type": "markdown",
      "metadata": {
        "nteract": {
          "transient": {
            "deleting": false
          }
        }
      },
      "source": [
        "If you don't already have the OpenAI, Python-dotenv, plotly, or scikit-learn packages installed on your compute, the following cells will install them."
      ]
    },
    {
      "cell_type": "code",
      "execution_count": 35,
      "metadata": {
        "gather": {
          "logged": 1701812306679
        },
        "jupyter": {
          "outputs_hidden": false,
          "source_hidden": false
        },
        "nteract": {
          "transient": {
            "deleting": false
          }
        }
      },
      "outputs": [
        {
          "data": {
            "text/plain": [
              "True"
            ]
          },
          "execution_count": 35,
          "metadata": {},
          "output_type": "execute_result"
        }
      ],
      "source": [
        "import openai\n",
        "import os\n",
        "import json\n",
        "from dotenv import load_dotenv, find_dotenv\n",
        "import pandas as pd\n",
        "load_dotenv(find_dotenv())\n"
      ]
    },
    {
      "cell_type": "markdown",
      "metadata": {
        "nteract": {
          "transient": {
            "deleting": false
          }
        }
      },
      "source": [
        "Set up your environment to access your OpenAI keys. Refer to your OpenAI resource in the Azure Portal to retrieve information regarding your OpenAI endpoint and keys.\n",
        "\n",
        "For security purposes, store your sensitive information in a .env file."
      ]
    },
    {
      "cell_type": "code",
      "execution_count": 36,
      "metadata": {
        "gather": {
          "logged": 1701812315353
        },
        "jupyter": {
          "outputs_hidden": false,
          "source_hidden": false
        },
        "nteract": {
          "transient": {
            "deleting": false
          }
        }
      },
      "outputs": [],
      "source": [
        "API_KEY = os.getenv(\"OPENAI_API_KEY\")\n",
        "assert API_KEY, \"ERROR: Azure OpenAI Key is missing\"\n",
        "openai.api_key = API_KEY\n",
        "\n",
        "RESOURCE_ENDPOINT = os.getenv(\"OPENAI_API_BASE\",\"\").strip()\n",
        "assert RESOURCE_ENDPOINT, \"ERROR: Azure OpenAI Endpoint is missing\"\n",
        "assert \"openai.azure.com\" in RESOURCE_ENDPOINT.lower(), \"ERROR: Azure OpenAI Endpoint should be in the form: \\n\\n\\t<your unique endpoint identifier>.openai.azure.com\"\n",
        "\n",
        "openai.api_base = RESOURCE_ENDPOINT\n",
        "openai.api_type = os.getenv(\"OPENAI_API_TYPE\")\n",
        "openai.api_version = os.getenv(\"OPENAI_API_VERSION\")\n",
        "\n",
        "chat_model=os.getenv(\"CHAT_MODEL_NAME\")\n",
        "chat_model2=os.getenv(\"CHAT_MODEL_NAME2\")\n",
        "\n",
        "\n",
        "\n"
      ]
    },
    {
      "cell_type": "markdown",
      "metadata": {
        "nteract": {
          "transient": {
            "deleting": false
          }
        }
      },
      "source": [
        "### 2.0 Helper Functions\n",
        "Throughout this course, we will use OpenAI's `gpt-3.5-turbo` and `gpt-4` models and the [chat completions endpoint](https://platform.openai.com/docs/guides/chat). \n",
        "\n",
        "This helper function will make it easier to use prompts and look at the generated outputs."
      ]
    },
    {
      "cell_type": "markdown",
      "metadata": {
        "nteract": {
          "transient": {
            "deleting": false
          }
        }
      },
      "source": [
        "**timer wrapper** helps us monitor and compare the latency of each model.\n",
        "\n",
        "**get_chat_completion** helps create the OpenAI response using the chat model of your choice.\n",
        "\n",
        "**get_completion_from_messages** helps create the OpenAI response using the chat model of your choice, enabling chat history.\n"
      ]
    },
    {
      "cell_type": "code",
      "execution_count": 8,
      "metadata": {
        "gather": {
          "logged": 1686334202300
        },
        "jupyter": {
          "outputs_hidden": false,
          "source_hidden": false
        },
        "nteract": {
          "transient": {
            "deleting": false
          }
        }
      },
      "outputs": [],
      "source": [
        "import functools\n",
        "import time\n",
        "\n",
        "def timer(func):\n",
        "    @functools.wraps(func)\n",
        "    def wrapper(*args, **kwargs):\n",
        "        start_time = time.perf_counter()\n",
        "        value = func(*args, **kwargs)\n",
        "        end_time = time.perf_counter()\n",
        "        run_time = end_time - start_time\n",
        "        print(\"Finished {} in {} secs\".format(repr(func.__name__), round(run_time, 3)))\n",
        "        return value[0], value[1], round(run_time, 3)\n",
        "\n",
        "    return wrapper"
      ]
    },
    {
      "cell_type": "code",
      "execution_count": 9,
      "metadata": {
        "gather": {
          "logged": 1686334263077
        },
        "jupyter": {
          "outputs_hidden": false,
          "source_hidden": false
        },
        "nteract": {
          "transient": {
            "deleting": false
          }
        }
      },
      "outputs": [],
      "source": [
        "@timer\n",
        "def get_chat_completion(prompt, model):\n",
        "    messages = [{\"role\": \"user\", \"content\": prompt}]\n",
        "    response = openai.ChatCompletion.create(\n",
        "        engine=model,\n",
        "        messages=messages,\n",
        "        temperature=0, # this is the degree of randomness of the model's output\n",
        "        max_tokens = 200,\n",
        "        top_p = 1.0,\n",
        "    )\n",
        "    return response.choices[0].message[\"content\"],response['usage']['total_tokens']\n"
      ]
    },
    {
      "cell_type": "code",
      "execution_count": 10,
      "metadata": {
        "gather": {
          "logged": 1686334263773
        },
        "jupyter": {
          "outputs_hidden": false,
          "source_hidden": false
        },
        "nteract": {
          "transient": {
            "deleting": false
          }
        }
      },
      "outputs": [],
      "source": [
        "@timer\n",
        "def get_completion_from_messages(messages, model, temperature=0):\n",
        "    response = openai.ChatCompletion.create(\n",
        "        engine=model,\n",
        "        messages=messages,\n",
        "        temperature=temperature, # this is the degree of randomness of the model's output\n",
        "    )\n",
        "    #print(str(response.choices[0].message))\n",
        "    return response.choices[0].message[\"content\"],response['usage']['total_tokens']\n"
      ]
    },
    {
      "cell_type": "markdown",
      "metadata": {
        "nteract": {
          "transient": {
            "deleting": false
          }
        }
      },
      "source": [
        "### 2.1 Summarize Text"
      ]
    },
    {
      "cell_type": "code",
      "execution_count": 11,
      "metadata": {
        "gather": {
          "logged": 1686334268062
        },
        "jupyter": {
          "outputs_hidden": false,
          "source_hidden": false
        },
        "nteract": {
          "transient": {
            "deleting": false
          }
        }
      },
      "outputs": [],
      "source": [
        "model_pricing = pd.DataFrame(columns=['task','model', 'price', 'time'])\n",
        "pricing = model_pricing"
      ]
    },
    {
      "cell_type": "code",
      "execution_count": 12,
      "metadata": {
        "gather": {
          "logged": 1686334278657
        }
      },
      "outputs": [
        {
          "name": "stdout",
          "output_type": "stream",
          "text": [
            "Finished 'get_chat_completion' in 0.667 secs\n",
            "Finished 'get_chat_completion' in 3.81 secs\n",
            "GPT-3.5 Response: The Olympic Games Tokyo 2020 had a global broadcast audience of 3.05 billion people, with official coverage on digital platforms generating 28 billion video views, and the Games were broadcast by various networks around the world including NBCUniversal, Eurosport, CBC/Radio-Canada, and Sony Pictures Networks India.\n",
            "\n",
            "GPT-4 Response: The Tokyo 2020 Olympics reached a global audience of 3.05 billion people, with digital platforms generating 28 billion video views, marking a 139% increase from the Rio 2016 Olympics and making it the most-watched Olympics on digital platforms; the event also saw the development of 8K broadcasting standards and 5G-ready networks, and was broadcast by various networks worldwide, including NBCUniversal in the US, Eurosport in Europe, and CBC/Radio-Canada in Canada.\n",
            "\n",
            "  task   model price   time\n",
            "0  2.1  gpt3.5   693  0.667\n",
            "1  2.1    gpt4   731  3.810\n"
          ]
        },
        {
          "name": "stderr",
          "output_type": "stream",
          "text": [
            "/tmp/ipykernel_1271/3850046144.py:18: FutureWarning: The behavior of DataFrame concatenation with empty or all-NA entries is deprecated. In a future version, this will no longer exclude empty or all-NA columns when determining the result dtypes. To retain the old behavior, exclude the relevant entries before the concat operation.\n",
            "  pricing = pd.concat([pricing, new_rows], ignore_index=True)\n"
          ]
        }
      ],
      "source": [
        "\n",
        "\n",
        "text = f\"\"\"\n",
        "The Olympic Games Tokyo 2020 reached a global broadcast audience of 3.05 billion people, according to independent research conducted on behalf of the International Olympic Committee (IOC). Official coverage on Olympic broadcast partners\\' digital platforms alone generated 28 billion video views in total – representing a 139 per cent increase compared with the Olympic Games Rio 2016 and underlining the changing media landscape and Tokyo 2020\\'s designation as the first streaming Games and the most watched Olympic Games ever on digital platforms.Sony and Panasonic partnered with NHK to develop broadcasting standards for 8K resolution television, with a goal to release 8K television sets in time for the 2020 Summer Olympics. In early 2019, Italian broadcaster RAI announced its intention to deploy 8K broadcasting for the Games. NHK broadcast the opening and closing ceremonies, and coverage of selected events in 8K. Telecom company NTT Docomo signed a deal with Finland\\'s Nokia to provide 5G-ready baseband networks in Japan in time for the Games.The Tokyo Olympics were broadcast in the United States by NBCUniversal networks, as part of a US$4.38 billion agreement that began at the 2014 Winter Olympics in Sochi. The United States Olympic & Paralympic Committee asserted that a \"right of abatement\" clause in the contract was triggered by the delay of the Games to 2021, requiring the IOC to \"negotiate in good faith an equitable reduction in the applicable broadcast rights payments\" by NBC, which remains one of IOC\\'s biggest revenue streams. According to NBCUniversal CEO Jeff Shell, the Tokyo games could be the most profitable Olympics in NBC\\'s history. The Tokyo games were NBC\\'s first Olympics broadcast under current president Susan Rosner Rovner.In Europe, this was the first Summer Olympics under the IOC\\'s exclusive pan-European rights deal with Eurosport, which began at the 2018 Winter Olympics and is contracted to run through 2024. The rights for the 2020 Summer Olympics covered almost all of Europe; a pre-existing deal with a marketer excludes Russia. Eurosport planned to sub-license coverage to free-to-air networks in each territory, and other channels owned by Discovery, Inc. subsidiaries. In the United Kingdom, these were set to be the last Games with rights owned primarily by the BBC, although as a condition of a sub-licensing agreement due to carry into the 2022 and 2024 Games, Eurosport holds exclusive pay television rights. In France, these were the last Games whose rights are primarily owned by France Télévisions. Eurosport debuted as pay television rightsholder, after Canal+ elected to sell its pay television rights as a cost-saving measure.In Canada, the 2020 Games were shown on CBC/Radio-Canada platforms, Sportsnet, TSN and TLN. In Australia, they were aired by Seven Network. In the Indian subcontinent, they were aired by Sony Pictures Networks India (SPN).\n",
        "\"\"\"\n",
        "prompt = f\"\"\"\n",
        "Summarize the text delimited by triple backticks into a single sentence.\n",
        "```{text}```\n",
        "\"\"\"\n",
        "\n",
        "gpt35_response, gpt35_price, gpt35_time = get_chat_completion(prompt, model=chat_model)\n",
        "gpt4_response, gpt4_price, gpt4_time = get_chat_completion(prompt, model=chat_model2)\n",
        "\n",
        "print(f\"GPT-3.5 Response: {gpt35_response}\\n\")\n",
        "print(f\"GPT-4 Response: {gpt4_response}\\n\")\n",
        "\n",
        "task = '2.1'\n",
        "new_rows = pd.DataFrame([{'task': task, 'model': 'gpt3.5', 'price': gpt35_price, 'time': gpt35_time},\n",
        "                         {'task': task, 'model': 'gpt4','price': gpt4_price, 'time': gpt4_time}])\n",
        "pricing = pd.concat([pricing, new_rows], ignore_index=True)\n",
        "\n",
        "\n",
        "print(pricing)\n"
      ]
    },
    {
      "cell_type": "code",
      "execution_count": null,
      "metadata": {},
      "outputs": [],
      "source": []
    },
    {
      "cell_type": "markdown",
      "metadata": {
        "nteract": {
          "transient": {
            "deleting": false
          }
        }
      },
      "source": [
        "#### Student Task #1:\n",
        "With tactics learned in CH1, edit the prompt to get more concise answer from the assistant. Do you find any difference in the result?"
      ]
    },
    {
      "cell_type": "code",
      "execution_count": 13,
      "metadata": {
        "jupyter": {
          "outputs_hidden": false,
          "source_hidden": false
        },
        "nteract": {
          "transient": {
            "deleting": false
          }
        }
      },
      "outputs": [
        {
          "name": "stdout",
          "output_type": "stream",
          "text": [
            "Finished 'get_chat_completion' in 0.37 secs\n",
            "Finished 'get_chat_completion' in 2.243 secs\n",
            "GPT-3.5 Response: The Tokyo 2020 Olympic Games had a global broadcast audience of 3.05 billion people, with a significant increase in digital platform views, and were broadcast by various media companies around the world.\n",
            "\n",
            "GPT-4 Response: The Tokyo 2020 Olympics reached a global audience of 3.05 billion people, with digital platforms generating 28 billion video views, marking a 139% increase from the Rio 2016 Olympics and making it the most-watched Olympics ever on digital platforms.\n",
            "\n",
            "   task   model price   time\n",
            "0   2.1  gpt3.5   693  0.667\n",
            "1   2.1    gpt4   731  3.810\n",
            "2  ST.1  gpt3.5   666  0.370\n",
            "3  ST.1    gpt4   680  2.243\n"
          ]
        }
      ],
      "source": [
        "# edit the prompt to get more concise answer from assistant\n",
        "prompt = f\"\"\"\n",
        "Summarize the text into a short single sentence.\n",
        "```{text}```\n",
        "\"\"\"\n",
        "\n",
        "gpt35_response, gpt35_price, gpt35_time = get_chat_completion(prompt, model=chat_model)\n",
        "gpt4_response, gpt4_price, gpt4_time = get_chat_completion(prompt, model=chat_model2)\n",
        "\n",
        "\n",
        "print(f\"GPT-3.5 Response: {gpt35_response}\\n\")\n",
        "print(f\"GPT-4 Response: {gpt4_response}\\n\")\n",
        "\n",
        "task = 'ST.1'\n",
        "new_rows = pd.DataFrame([{'task': task, 'model': 'gpt3.5', 'price': gpt35_price, 'time': gpt35_time},\n",
        "                         {'task': task, 'model': 'gpt4','price': gpt4_price, 'time': gpt4_time}])\n",
        "pricing = pd.concat([pricing, new_rows], ignore_index=True)\n",
        "\n",
        "print(pricing)\n"
      ]
    },
    {
      "cell_type": "markdown",
      "metadata": {
        "nteract": {
          "transient": {
            "deleting": false
          }
        }
      },
      "source": [
        "### 2.2 Summarization for a targeted audience"
      ]
    },
    {
      "cell_type": "code",
      "execution_count": 14,
      "metadata": {
        "gather": {
          "logged": 1686332538379
        },
        "jupyter": {
          "outputs_hidden": false,
          "source_hidden": false
        },
        "nteract": {
          "transient": {
            "deleting": false
          }
        }
      },
      "outputs": [
        {
          "name": "stdout",
          "output_type": "stream",
          "text": [
            "Finished 'get_chat_completion' in 0.287 secs\n",
            "Finished 'get_chat_completion' in 2.103 secs\n",
            "GPT-3.5 Response: The Olympic Games in Tokyo were watched by a lot of people all over the world, and many different companies and TV networks showed the games on their channels.\n",
            "\n",
            "GPT-4 Response: The Tokyo 2020 Olympics was watched by over 3 billion people worldwide, with lots of people watching online, making it the most watched Olympics ever on digital platforms.\n",
            "\n",
            "   task   model price   time\n",
            "0   2.1  gpt3.5   693  0.667\n",
            "1   2.1    gpt4   731  3.810\n",
            "2  ST.1  gpt3.5   666  0.370\n",
            "3  ST.1    gpt4   680  2.243\n",
            "4   2.2  gpt3.5   668  0.287\n",
            "5   2.2    gpt4   671  2.103\n"
          ]
        }
      ],
      "source": [
        "prompt = f\"\"\"\n",
        "Summarize the text delimited by triple backticks into a single sentence for 7-year-old to understand.\n",
        "```{text}```\n",
        "\"\"\"\n",
        "\n",
        "\n",
        "gpt35_response, gpt35_price, gpt35_time = get_chat_completion(prompt, model=chat_model)\n",
        "gpt4_response, gpt4_price, gpt4_time = get_chat_completion(prompt, model=chat_model2)\n",
        "\n",
        "print(f\"GPT-3.5 Response: {gpt35_response}\\n\")\n",
        "print(f\"GPT-4 Response: {gpt4_response}\\n\")\n",
        "\n",
        "\n",
        "task = '2.2'\n",
        "new_rows = pd.DataFrame([{'task': task, 'model': 'gpt3.5', 'price': gpt35_price, 'time': gpt35_time},\n",
        "                         {'task': task, 'model': 'gpt4','price': gpt4_price, 'time': gpt4_time}])\n",
        "pricing = pd.concat([pricing, new_rows], ignore_index=True)\n",
        "\n",
        "print(pricing)\n"
      ]
    },
    {
      "cell_type": "markdown",
      "metadata": {
        "nteract": {
          "transient": {
            "deleting": false
          }
        }
      },
      "source": [
        "#### Student Challenge #2:\n",
        "Edit the prompt to summarize the text for eye-catching newspaper title. Compare different results."
      ]
    },
    {
      "cell_type": "code",
      "execution_count": 15,
      "metadata": {
        "jupyter": {
          "outputs_hidden": false,
          "source_hidden": false
        },
        "nteract": {
          "transient": {
            "deleting": false
          }
        }
      },
      "outputs": [
        {
          "name": "stdout",
          "output_type": "stream",
          "text": [
            "Finished 'get_chat_completion' in 0.24 secs\n",
            "Finished 'get_chat_completion' in 1.301 secs\n",
            "GPT-3.5 Response: Tokyo 2020 Olympics reached 3.05 billion viewers, most watched ever.\n",
            "\n",
            "GPT-4 Response: Tokyo 2020 Olympics reached record 3.05 billion global audience, marking a 139% increase in digital views from Rio 2016.\n",
            "\n",
            "   task   model price   time\n",
            "0   2.1  gpt3.5   693  0.667\n",
            "1   2.1    gpt4   731  3.810\n",
            "2  ST.1  gpt3.5   666  0.370\n",
            "3  ST.1    gpt4   680  2.243\n",
            "4   2.2  gpt3.5   668  0.287\n",
            "5   2.2    gpt4   671  2.103\n",
            "6  ST.2  gpt3.5   657  0.240\n",
            "7  ST.2    gpt4   670  1.301\n"
          ]
        }
      ],
      "source": [
        "# Edit the prompt to summarize the text for eye-catching newspaper title\n",
        "\n",
        "prompt = f\"\"\"\n",
        "Summarize the text delimited by triple backticks into a \"breaking news\" style setence with 10 words.\n",
        "```{text}```\n",
        "\"\"\"\n",
        "\n",
        "gpt35_response, gpt35_price, gpt35_time = get_chat_completion(prompt, model=chat_model)\n",
        "gpt4_response, gpt4_price, gpt4_time = get_chat_completion(prompt, model=chat_model2)\n",
        "\n",
        "print(f\"GPT-3.5 Response: {gpt35_response}\\n\")\n",
        "print(f\"GPT-4 Response: {gpt4_response}\\n\")\n",
        "\n",
        "\n",
        "task = 'ST.2'\n",
        "new_rows = pd.DataFrame([{'task': task, 'model': 'gpt3.5', 'price': gpt35_price, 'time': gpt35_time},\n",
        "                         {'task': task, 'model': 'gpt4','price': gpt4_price, 'time': gpt4_time}])\n",
        "pricing = pd.concat([pricing, new_rows], ignore_index=True)\n",
        "print(pricing)"
      ]
    },
    {
      "cell_type": "markdown",
      "metadata": {
        "nteract": {
          "transient": {
            "deleting": false
          }
        }
      },
      "source": [
        "### 2.3 Summarize Cause & Effect"
      ]
    },
    {
      "cell_type": "code",
      "execution_count": 16,
      "metadata": {
        "gather": {
          "logged": 1686332587257
        },
        "jupyter": {
          "outputs_hidden": false,
          "source_hidden": false
        },
        "nteract": {
          "transient": {
            "deleting": false
          }
        }
      },
      "outputs": [
        {
          "name": "stdout",
          "output_type": "stream",
          "text": [
            "Finished 'get_chat_completion' in 0.455 secs\n",
            "Finished 'get_chat_completion' in 2.988 secs\n",
            "GPT-3.5 Response: The cause of the major event was the global broadcast audience of 3.05 billion people for the Olympic Games Tokyo 2020, with significant increases in digital platform views, the development of 8K broadcasting standards, and the negotiation of broadcast rights payments.\n",
            "\n",
            "GPT-4 Response: The Tokyo 2020 Olympics reached a global audience of 3.05 billion people, with digital platforms generating 28 billion video views, a 139% increase from the Rio 2016 Olympics, making it the most-watched Olympics on digital platforms due to advancements in broadcasting technology and strategic partnerships.\n",
            "\n",
            "   task   model price   time\n",
            "0   2.1  gpt3.5   693  0.667\n",
            "1   2.1    gpt4   731  3.810\n",
            "2  ST.1  gpt3.5   666  0.370\n",
            "3  ST.1    gpt4   680  2.243\n",
            "4   2.2  gpt3.5   668  0.287\n",
            "5   2.2    gpt4   671  2.103\n",
            "6  ST.2  gpt3.5   657  0.240\n",
            "7  ST.2    gpt4   670  1.301\n",
            "8   2.3  gpt3.5   695  0.455\n",
            "9   2.3    gpt4   704  2.988\n"
          ]
        }
      ],
      "source": [
        "prompt = f\"\"\"\n",
        "Summarize the major event's cause and effect for the text delimited by triple backticks into a single sentence less than 50 words.\n",
        "```{text}```\n",
        "\"\"\"\n",
        "\n",
        "\n",
        "gpt35_response, gpt35_price, gpt35_time = get_chat_completion(prompt, model=chat_model)\n",
        "gpt4_response, gpt4_price, gpt4_time = get_chat_completion(prompt, model=chat_model2)\n",
        "\n",
        "print(f\"GPT-3.5 Response: {gpt35_response}\\n\")\n",
        "print(f\"GPT-4 Response: {gpt4_response}\\n\")\n",
        "\n",
        "\n",
        "task = '2.3'\n",
        "new_rows = pd.DataFrame([{'task': task, 'model': 'gpt3.5', 'price': gpt35_price, 'time': gpt35_time},\n",
        "                         {'task': task, 'model': 'gpt4','price': gpt4_price, 'time': gpt4_time}])\n",
        "pricing = pd.concat([pricing, new_rows], ignore_index=True)\n",
        "print(pricing)"
      ]
    },
    {
      "cell_type": "markdown",
      "metadata": {
        "nteract": {
          "transient": {
            "deleting": false
          }
        }
      },
      "source": [
        "#### Student Task #3: Model Comparison\n",
        "Use the model comparison chart to briefly summarize your findings after comparing different model output & time taken. eg. GPT-4: Performance (+++), time (+). You may also leverage other python packages to visualize your findings.\n",
        "\n",
        "|Model| Performance  |Time|\n",
        "|---|---|---|\n",
        "|GPT-3.5|||\n",
        "|GPT-4|||\n",
        "\n"
      ]
    },
    {
      "cell_type": "markdown",
      "metadata": {
        "nteract": {
          "transient": {
            "deleting": false
          }
        }
      },
      "source": [
        " #### Student Task #4: Text Classification\n",
        " Edit the prompt to make the models generate key topic categories for the text. Compare different model performance."
      ]
    },
    {
      "cell_type": "code",
      "execution_count": 17,
      "metadata": {
        "jupyter": {
          "outputs_hidden": false,
          "source_hidden": false
        },
        "nteract": {
          "transient": {
            "deleting": false
          }
        }
      },
      "outputs": [
        {
          "name": "stdout",
          "output_type": "stream",
          "text": [
            "Finished 'get_chat_completion' in 0.97 secs\n",
            "Finished 'get_chat_completion' in 6.39 secs\n",
            "GPT-3.5 Response: 1. Global broadcast audience of the Olympic Games Tokyo 2020\n",
            "2. Digital platform viewership and the changing media landscape\n",
            "3. Development of 8K resolution television for broadcasting the Games\n",
            "4. Broadcasting partnerships and agreements with companies like Sony, Panasonic, NHK, NTT Docomo, and Nokia\n",
            "5. Broadcast rights agreements and negotiations with NBCUniversal, Eurosport, BBC, France Télévisions, CBC/Radio-Canada, Seven Network, and Sony Pictures Networks India\n",
            "6. Impact of the delay of the Games to 2021 on broadcast rights payments\n",
            "7. Introduction of new pay television rightsholders like Eurosport and the debut of pay television rights for the Games in certain regions.\n",
            "\n",
            "GPT-4 Response: 1. Tokyo 2020 Olympics global broadcast audience\n",
            "2. Increase in digital viewership of the Olympics\n",
            "3. Development of 8K resolution television for Olympics broadcasting\n",
            "4. Broadcasting of Tokyo Olympics in the United States by NBCUniversal\n",
            "5. Broadcasting of Tokyo Olympics in Europe by Eurosport\n",
            "6. Broadcasting of Tokyo Olympics in the United Kingdom by BBC\n",
            "7. Broadcasting of Tokyo Olympics in France by France Télévisions\n",
            "8. Broadcasting of Tokyo Olympics in Canada by CBC/Radio-Canada, Sportsnet, TSN and TLN\n",
            "9. Broadcasting of Tokyo Olympics in Australia by Seven Network\n",
            "10. Broadcasting of Tokyo Olympics in the Indian subcontinent by Sony Pictures Networks India\n",
            "11. Role of 5G technology in broadcasting the Olympics\n",
            "12. Financial aspects of broadcasting rights for the Olympics.\n",
            "\n",
            "    task   model price   time\n",
            "0    2.1  gpt3.5   693  0.667\n",
            "1    2.1    gpt4   731  3.810\n",
            "2   ST.1  gpt3.5   666  0.370\n",
            "3   ST.1    gpt4   680  2.243\n",
            "4    2.2  gpt3.5   668  0.287\n",
            "5    2.2    gpt4   671  2.103\n",
            "6   ST.2  gpt3.5   657  0.240\n",
            "7   ST.2    gpt4   670  1.301\n",
            "8    2.3  gpt3.5   695  0.455\n",
            "9    2.3    gpt4   704  2.988\n",
            "10  ST.4  gpt3.5   768  0.970\n",
            "11  ST.4    gpt4   787  6.390\n"
          ]
        }
      ],
      "source": [
        "# Edit the prompt to make the models generate key topic categories for the text\n",
        "\n",
        "prompt = f\"\"\"\n",
        "Infer key topics of the story\n",
        "```{text}```\n",
        "\"\"\"\n",
        "\n",
        "\n",
        "gpt35_response, gpt35_price, gpt35_time = get_chat_completion(prompt, model=chat_model)\n",
        "gpt4_response, gpt4_price, gpt4_time = get_chat_completion(prompt, model=chat_model2)\n",
        "\n",
        "print(f\"GPT-3.5 Response: {gpt35_response}\\n\")\n",
        "print(f\"GPT-4 Response: {gpt4_response}\\n\")\n",
        "\n",
        "task = 'ST.4'\n",
        "new_rows = pd.DataFrame([{'task': task, 'model': 'gpt3.5', 'price': gpt35_price, 'time': gpt35_time},\n",
        "                         {'task': task, 'model': 'gpt4','price': gpt4_price, 'time': gpt4_time}])\n",
        "pricing = pd.concat([pricing, new_rows], ignore_index=True)\n",
        "print(pricing)\n"
      ]
    },
    {
      "cell_type": "markdown",
      "metadata": {
        "nteract": {
          "transient": {
            "deleting": false
          }
        }
      },
      "source": [
        "#### Student Task #5:\n",
        "Edit the prompt to make the models generate more precise results. Compare different model performance."
      ]
    },
    {
      "cell_type": "code",
      "execution_count": 18,
      "metadata": {
        "jupyter": {
          "outputs_hidden": false,
          "source_hidden": false
        },
        "nteract": {
          "transient": {
            "deleting": false
          }
        }
      },
      "outputs": [
        {
          "name": "stdout",
          "output_type": "stream",
          "text": [
            "Finished 'get_chat_completion' in 1.324 secs\n",
            "Finished 'get_chat_completion' in 6.276 secs\n",
            "GPT-3.5 Response: 1. The Olympic Games Tokyo 2020 reached a global broadcast audience of 3.05 billion people, making it the most watched Olympic Games ever on digital platforms.\n",
            "2. Sony and Panasonic partnered with NHK to develop broadcasting standards for 8K resolution television, with a goal to release 8K television sets in time for the 2020 Summer Olympics.\n",
            "3. The United States Olympic & Paralympic Committee triggered a \"right of abatement\" clause in the broadcast rights contract, requiring the IOC to negotiate a reduction in the applicable broadcast rights payments by NBC due to the delay of the Games to 2021.\n",
            "4. The Tokyo Olympics were broadcast in the United States by NBCUniversal networks as part of a US$4.38 billion agreement, with the potential to be the most profitable Olympics in NBC's history.\n",
            "5. This was the first Summer Olympics under the IOC's exclusive pan-European rights deal with Eurosport, covering almost all of Europe.\n",
            "6. In Canada\n",
            "\n",
            "GPT-4 Response: 1. Event: The Olympic Games Tokyo 2020 reached a global broadcast audience of 3.05 billion people.\n",
            "   Cause: The event was broadcasted globally by various networks and platforms.\n",
            "   Effect: This led to a significant increase in viewership, with official coverage on Olympic broadcast partners' digital platforms generating 28 billion video views in total, a 139 per cent increase compared to the Olympic Games Rio 2016.\n",
            "\n",
            "2. Event: Tokyo 2020 was designated as the first streaming Games and the most watched Olympic Games ever on digital platforms.\n",
            "   Cause: The changing media landscape and the development of broadcasting standards for 8K resolution television by Sony, Panasonic, and NHK.\n",
            "   Effect: This led to a significant increase in digital viewership and set a new standard for future Olympic broadcasts.\n",
            "\n",
            "3. Event: Telecom company NTT Docomo signed a deal with Finland's Nokia to provide 5G-ready baseband networks in Japan in time for the Games.\n",
            "  \n",
            "\n",
            "    task   model price   time\n",
            "0    2.1  gpt3.5   693  0.667\n",
            "1    2.1    gpt4   731  3.810\n",
            "2   ST.1  gpt3.5   666  0.370\n",
            "3   ST.1    gpt4   680  2.243\n",
            "4    2.2  gpt3.5   668  0.287\n",
            "5    2.2    gpt4   671  2.103\n",
            "6   ST.2  gpt3.5   657  0.240\n",
            "7   ST.2    gpt4   670  1.301\n",
            "8    2.3  gpt3.5   695  0.455\n",
            "9    2.3    gpt4   704  2.988\n",
            "10  ST.4  gpt3.5   768  0.970\n",
            "11  ST.4    gpt4   787  6.390\n",
            "12  ST.5  gpt3.5   832  1.324\n",
            "13  ST.5    gpt4   832  6.276\n",
            "    task   model price   time\n",
            "0    2.1  gpt3.5   693  0.667\n",
            "1    2.1    gpt4   731  3.810\n",
            "2   ST.1  gpt3.5   666  0.370\n",
            "3   ST.1    gpt4   680  2.243\n",
            "4    2.2  gpt3.5   668  0.287\n",
            "5    2.2    gpt4   671  2.103\n",
            "6   ST.2  gpt3.5   657  0.240\n",
            "7   ST.2    gpt4   670  1.301\n",
            "8    2.3  gpt3.5   695  0.455\n",
            "9    2.3    gpt4   704  2.988\n",
            "10  ST.4  gpt3.5   768  0.970\n",
            "11  ST.4    gpt4   787  6.390\n",
            "12  ST.5  gpt3.5   832  1.324\n",
            "13  ST.5    gpt4   832  6.276\n"
          ]
        }
      ],
      "source": [
        "# Edit the prompt to make the models generate more precise results\n",
        "\n",
        "prompt = f\"\"\"\n",
        "Identify the major events causes and effects using numbers as facts and sorting by importance.\n",
        "```{text}```\n",
        "\"\"\"\n",
        "\n",
        "\n",
        "gpt35_response, gpt35_price, gpt35_time = get_chat_completion(prompt, model=chat_model)\n",
        "gpt4_response, gpt4_price, gpt4_time = get_chat_completion(prompt, model=chat_model2)\n",
        "\n",
        "print(f\"GPT-3.5 Response: {gpt35_response}\\n\")\n",
        "print(f\"GPT-4 Response: {gpt4_response}\\n\")\n",
        "\n",
        "\n",
        "task = 'ST.5'\n",
        "new_rows = pd.DataFrame([{'task': task, 'model': 'gpt3.5', 'price': gpt35_price, 'time': gpt35_time},\n",
        "                         {'task': task, 'model': 'gpt4','price': gpt4_price, 'time': gpt4_time}])\n",
        "pricing = pd.concat([pricing, new_rows], ignore_index=True)\n",
        "print(pricing)\n",
        "print(pricing)"
      ]
    },
    {
      "cell_type": "markdown",
      "metadata": {
        "nteract": {
          "transient": {
            "deleting": false
          }
        }
      },
      "source": [
        "#### Student Challenge #6: Model Comparison\n",
        "\n",
        "Write code to create two bar charts comparing the **price** and **time for completion** between the models. We recommend using the `matplotlib.pyplot` library for making visualizations.\n",
        "\n",
        "Instructions for completion:\n",
        "\n",
        "* Utilize the `model_comparison` dataframe to calculate the averages of price and time for each model\n",
        "* Produce the bar chart in a currency amount. Note that the `price` column in the `model_comparison` dataframe is in the unit of tokens. Refer to the Azure [OpenAI pricing page](https://azure.microsoft.com/en-us/pricing/details/cognitive-services/openai-service/) to convert the units."
      ]
    },
    {
      "cell_type": "code",
      "execution_count": 19,
      "metadata": {
        "jupyter": {
          "outputs_hidden": false,
          "source_hidden": false
        },
        "nteract": {
          "transient": {
            "deleting": false
          }
        }
      },
      "outputs": [
        {
          "data": {
            "text/plain": [
              "<Axes: xlabel='task'>"
            ]
          },
          "execution_count": 19,
          "metadata": {},
          "output_type": "execute_result"
        },
        {
          "data": {
            "image/png": "[encoded data removed]",
            "text/plain": [
              "<Figure size 640x480 with 1 Axes>"
            ]
          },
          "metadata": {},
          "output_type": "display_data"
        },
        {
          "data": {
            "image/png": "[encoded data removed]",
            "text/plain": [
              "<Figure size 640x480 with 1 Axes>"
            ]
          },
          "metadata": {},
          "output_type": "display_data"
        }
      ],
      "source": [
        "\"\"\" STUDENT CHALLENGE \"\"\"\n",
        "\n",
        "import matplotlib.pyplot as plt\n",
        "\n",
        "### 1. Bar chart to compare pricing\n",
        "## Plat pricing datagrame using matplotlib\n",
        "pricing.plot.bar(x='task', y='price', rot=0)\n",
        "\n",
        "### 2. Bar chart to compare time for completion\n",
        "## Plat pricing datagrame using matplotlib\n",
        "pricing.plot.bar(x='task', y='time', rot=0)\n"
      ]
    },
    {
      "cell_type": "code",
      "execution_count": 20,
      "metadata": {},
      "outputs": [
        {
          "name": "stdout",
          "output_type": "stream",
          "text": [
            "('2.1', 'ST.1', '2.2', 'ST.2', '2.3', 'ST.4', 'ST.5')\n",
            "{'gpt3.5': (0.667, 0.37, 0.287, 0.24, 0.455, 0.97, 1.324), 'gpt4': (3.81, 2.243, 2.103, 1.301, 2.988, 6.39, 6.276)}\n"
          ]
        }
      ],
      "source": [
        "## Create a dictionary to store pricings in a tuple grouped by model\n",
        "model_price = {}\n",
        "for model in pricing['model'].unique():\n",
        "    model_price[model] = tuple(pricing[pricing['model']==model]['price'].values.tolist())\n",
        "\n",
        "model_time = {}\n",
        "for model in pricing['model'].unique():\n",
        "    model_time[model] = tuple(pricing[pricing['model']==model]['time'].values.tolist())\n",
        "\n",
        "tasks = tuple(pricing[pricing['model']=='gpt4']['task'].values.tolist())\n",
        "\n",
        "print(tasks)\n",
        "print(model_time)"
      ]
    },
    {
      "cell_type": "code",
      "execution_count": 21,
      "metadata": {},
      "outputs": [
        {
          "data": {
            "image/png": "[encoded data removed]",
            "text/plain": [
              "<Figure size 640x480 with 1 Axes>"
            ]
          },
          "metadata": {},
          "output_type": "display_data"
        }
      ],
      "source": [
        "\n",
        "import matplotlib.pyplot as plt\n",
        "import numpy as np\n",
        "\n",
        "## Convert task column from pricing dataframe to tuple \n",
        "tasks = tuple(pricing[pricing['model']=='gpt4']['task'].values.tolist())\n",
        "\n",
        "## Create a dictionary to store pricings in a tuple grouped by model\n",
        "model_price = {}\n",
        "for model in pricing['model'].unique():\n",
        "    model_price[model] = tuple(pricing[pricing['model']==model]['price'].values.tolist())\n",
        "\n",
        "x = np.arange(len(tasks))  # the label locations\n",
        "width = 0.4  # the width of the bars\n",
        "multiplier = 0\n",
        "\n",
        "fig, ax = plt.subplots(layout='constrained')\n",
        "\n",
        "for attribute, measurement in model_price.items():\n",
        "    offset = width * multiplier\n",
        "    rects = ax.bar(x + offset, measurement, width, label=attribute)\n",
        "    ax.bar_label(rects, padding=5)\n",
        "    multiplier += 1\n",
        "\n",
        "# Add some text for labels, title and custom x-axis tick labels, etc.\n",
        "ax.set_ylabel('Price')\n",
        "ax.set_title('Models Comparison by task')\n",
        "ax.set_xticks(x + width, tasks)\n",
        "ax.legend(loc='upper left', ncols=2)\n",
        "ax.set_ylim(400, 1000)\n",
        "\n",
        "plt.show()\n",
        "\n",
        "\n"
      ]
    },
    {
      "cell_type": "code",
      "execution_count": 22,
      "metadata": {},
      "outputs": [
        {
          "data": {
            "image/png": "[encoded data removed]",
            "text/plain": [
              "<Figure size 640x480 with 1 Axes>"
            ]
          },
          "metadata": {},
          "output_type": "display_data"
        }
      ],
      "source": [
        "\n",
        "import matplotlib.pyplot as plt\n",
        "import numpy as np\n",
        "\n",
        "## Convert task column from pricing dataframe to tuple \n",
        "tasks = tuple(pricing[pricing['model']=='gpt4']['task'].values.tolist())\n",
        "\n",
        "## Create a dictionary to store pricings in a tuple grouped by model\n",
        "model_time = {}\n",
        "for model in pricing['model'].unique():\n",
        "    model_time[model] = tuple(pricing[pricing['model']==model]['time'].values.tolist())\n",
        "\n",
        "\n",
        "x = np.arange(len(tasks))  # the label locations\n",
        "width = 0.45  # the width of the bars\n",
        "multiplier = 0\n",
        "\n",
        "fig, ax = plt.subplots(layout='constrained')\n",
        "\n",
        "for attribute, measurement in model_time.items():\n",
        "    offset = width * multiplier\n",
        "    rects = ax.bar(x + offset, measurement, width, label=attribute)\n",
        "    ax.bar_label(rects, padding=5)\n",
        "    multiplier += 1\n",
        "\n",
        "# Add some text for labels, title and custom x-axis tick labels, etc.\n",
        "ax.set_ylabel('Time')\n",
        "ax.set_title('Models Comparison by task')\n",
        "ax.set_xticks(x + width, tasks)\n",
        "ax.legend(loc='upper left', ncols=2)\n",
        "ax.set_ylim(0, 15)\n",
        "\n",
        "plt.show()\n",
        "\n",
        "\n"
      ]
    },
    {
      "cell_type": "markdown",
      "metadata": {
        "nteract": {
          "transient": {
            "deleting": false
          }
        }
      },
      "source": [
        "### 2.4 Generate Nick Names"
      ]
    },
    {
      "cell_type": "markdown",
      "metadata": {
        "nteract": {
          "transient": {
            "deleting": false
          }
        }
      },
      "source": [
        "#### Student Challenge #7:\n",
        "Use different models to create nick names for players from examples words. Compare different model performance. (You can set the temperature value high to increase randomness and more innovative responses.)\n",
        "\n",
        "Player description: The champion of Men's 100 metre freestyle swimming. Seed words: fast, strong, talented.Nick names: Swimming Genius, Dark Horse, 100-Metre-Freestyle Killer\n",
        "\n",
        "Player description: The champion of Women Figure Skating. Seed words: elegant, talented, soft."
      ]
    },
    {
      "cell_type": "code",
      "execution_count": 23,
      "metadata": {
        "gather": {
          "logged": 1685916265011
        },
        "jupyter": {
          "outputs_hidden": false,
          "source_hidden": false
        },
        "nteract": {
          "transient": {
            "deleting": false
          }
        }
      },
      "outputs": [],
      "source": [
        "# your code:"
      ]
    },
    {
      "cell_type": "markdown",
      "metadata": {
        "nteract": {
          "transient": {
            "deleting": false
          }
        }
      },
      "source": [
        "#### Model Comparison\n",
        "|Model| Performance  |Time|Tokens|Pricing |\n",
        "|---|---|---|---|---|\n",
        "|GPT-3.5|||||\n",
        "|GPT-4||||||\n",
        "\n",
        "\n"
      ]
    },
    {
      "cell_type": "markdown",
      "metadata": {
        "nteract": {
          "transient": {
            "deleting": false
          }
        }
      },
      "source": [
        "### 2.5 Embeddings\n",
        "This section focuses on how to retrieve embeddings using different embedding models, and find similarity between documents. "
      ]
    },
    {
      "cell_type": "markdown",
      "metadata": {
        "nteract": {
          "transient": {
            "deleting": false
          }
        }
      },
      "source": [
        "#### Student Challenge #8:\n",
        "Compare the summaries of two swimming games at the 2020 Summer Olympics using the data provided below.\n",
        "\n",
        "See whether there are differences using different embedding models to compare."
      ]
    },
    {
      "cell_type": "code",
      "execution_count": 37,
      "metadata": {
        "gather": {
          "logged": 1686117865502
        },
        "jupyter": {
          "outputs_hidden": false,
          "source_hidden": false
        },
        "nteract": {
          "transient": {
            "deleting": false
          }
        }
      },
      "outputs": [],
      "source": [
        "from openai.embeddings_utils import get_embedding, cosine_similarity"
      ]
    },
    {
      "cell_type": "code",
      "execution_count": 38,
      "metadata": {
        "gather": {
          "logged": 1686117698204
        },
        "jupyter": {
          "outputs_hidden": false,
          "source_hidden": false
        },
        "nteract": {
          "transient": {
            "deleting": false
          }
        }
      },
      "outputs": [
        {
          "data": {
            "text/html": [
              "<div>\n",
              "<style scoped>\n",
              "    .dataframe tbody tr th:only-of-type {\n",
              "        vertical-align: middle;\n",
              "    }\n",
              "\n",
              "    .dataframe tbody tr th {\n",
              "        vertical-align: top;\n",
              "    }\n",
              "\n",
              "    .dataframe thead th {\n",
              "        text-align: right;\n",
              "    }\n",
              "</style>\n",
              "<table border=\"1\" class=\"dataframe\">\n",
              "  <thead>\n",
              "    <tr style=\"text-align: right;\">\n",
              "      <th></th>\n",
              "      <th>summary</th>\n",
              "      <th>qualification</th>\n",
              "    </tr>\n",
              "  </thead>\n",
              "  <tbody>\n",
              "    <tr>\n",
              "      <th>0</th>\n",
              "      <td>The mixed 100 metre medley relay event at the ...</td>\n",
              "      <td>The 2020 Summer Olympics featured the first ev...</td>\n",
              "    </tr>\n",
              "    <tr>\n",
              "      <th>1</th>\n",
              "      <td>The men's 200 metre breaststroke event at the ...</td>\n",
              "      <td>The men's 200 metre breaststroke event was hel...</td>\n",
              "    </tr>\n",
              "  </tbody>\n",
              "</table>\n",
              "</div>"
            ],
            "text/plain": [
              "                                             summary  \\\n",
              "0  The mixed 100 metre medley relay event at the ...   \n",
              "1  The men's 200 metre breaststroke event at the ...   \n",
              "\n",
              "                                       qualification  \n",
              "0  The 2020 Summer Olympics featured the first ev...  \n",
              "1  The men's 200 metre breaststroke event was hel...  "
            ]
          },
          "execution_count": 38,
          "metadata": {},
          "output_type": "execute_result"
        }
      ],
      "source": [
        "import pandas as pd\n",
        "game_summary = [\n",
        "    \"The mixed 100 metre medley relay event at the 2020 Summer Olympics was held in 2021 at the Tokyo Aquatics Centre. These Games marked the first time to feature a mixed-gender swimming event in the program. Each 4-person team features two male and two female swimmers in no particular order. The medals for the competition were presented by Kirsty Coventry IOC Executive Board Member, Zimbabwe; Olympian, 2 Gold Medals, 4 Silver Medals, 1 Bronze Medal, and the medalists bouquets were presented by Errol Clarke, FINA Bureau Member; Barbados.\",\n",
        "    \"The men's 200 metre breaststroke event at the 2020 Summer Olympics was held from 27 to 29 July 2021 at the Tokyo Aquatics Centre. It was the event's twenty-sixth consecutive appearance, having been held at every edition since 1908.\"\n",
        "]\n",
        "\n",
        "game_highlight = [\n",
        "    'The 2020 Summer Olympics featured the first ever mixed-gender swimming event, the 100 metre medley relay. Medals were presented by Kirsty Coventry and bouquets by Errol Clarke.',\n",
        "    \"The men's 200 metre breaststroke event was held at the 2020 Summer Olympics in Tokyo, making it the event's 26th consecutive appearance since 1908.\"\n",
        "]\n",
        "\n",
        "olympics_game_df = pd.DataFrame({\"summary\":game_summary, \"qualification\":game_highlight})\n",
        "\n",
        "olympics_game_df.head()   "
      ]
    },
    {
      "cell_type": "code",
      "execution_count": 39,
      "metadata": {
        "gather": {
          "logged": 1686117707487
        },
        "jupyter": {
          "outputs_hidden": false,
          "source_hidden": false
        },
        "nteract": {
          "transient": {
            "deleting": false
          }
        }
      },
      "outputs": [],
      "source": [
        "@timer\n",
        "def get_embedding(text, model=chat_model):\n",
        "    response = openai.Embedding.create(\n",
        "        input=text,\n",
        "        engine=model\n",
        "    )\n",
        "    return response[\"data\"][0][\"embedding\"]"
      ]
    },
    {
      "cell_type": "markdown",
      "metadata": {
        "nteract": {
          "transient": {
            "deleting": false
          }
        }
      },
      "source": [
        "#### Model Comparison\n",
        "|Model| Performance  |Time|\n",
        "|---|---|---|\n",
        "|GPT-3.5|||\n",
        "|GPT-4|||\n"
      ]
    },
    {
      "cell_type": "code",
      "execution_count": 54,
      "metadata": {
        "jupyter": {
          "outputs_hidden": false,
          "source_hidden": false
        },
        "nteract": {
          "transient": {
            "deleting": false
          }
        }
      },
      "outputs": [
        {
          "name": "stdout",
          "output_type": "stream",
          "text": [
            "Finished 'get_embedding' in 0.076 secs\n",
            "Finished 'get_embedding' in 0.055 secs\n"
          ]
        },
        {
          "data": {
            "text/plain": [
              "0    (-0.012683137319982052, -0.002773204119876027,...\n",
              "1    (-0.014485535211861134, -0.0001204303771373815...\n",
              "Name: summary, dtype: object"
            ]
          },
          "execution_count": 54,
          "metadata": {},
          "output_type": "execute_result"
        }
      ],
      "source": [
        " olympics_game_df['summary'].apply(lambda x : get_embedding(x, model = 'lrbf_text_emb_ada_002'))"
      ]
    }
  ],
  "metadata": {
    "kernel_info": {
      "name": "python310-sdkv2"
    },
    "kernelspec": {
      "display_name": "Python 3",
      "language": "python",
      "name": "python3"
    },
    "language_info": {
      "codemirror_mode": {
        "name": "ipython",
        "version": 3
      },
      "file_extension": ".py",
      "mimetype": "text/x-python",
      "name": "python",
      "nbconvert_exporter": "python",
      "pygments_lexer": "ipython3",
      "version": "3.10.13"
    },
    "microsoft": {
      "host": {
        "AzureML": {
          "notebookHasBeenCompleted": true
        }
      },
      "ms_spell_check": {
        "ms_spell_check_language": "en"
      }
    },
    "nteract": {
      "version": "nteract-front-end@1.0.0"
    }
  },
  "nbformat": 4,
  "nbformat_minor": 2
}
