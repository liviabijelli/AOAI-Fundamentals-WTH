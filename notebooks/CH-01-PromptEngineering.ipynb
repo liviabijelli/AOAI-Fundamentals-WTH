{
  "cells": [
    {
      "cell_type": "markdown",
      "metadata": {
        "nteract": {
          "transient": {
            "deleting": false
          }
        }
      },
      "source": [
        "# Challenge 01 - Prompt Engineering"
      ]
    },
    {
      "cell_type": "markdown",
      "metadata": {
        "nteract": {
          "transient": {
            "deleting": false
          }
        }
      },
      "source": [
        "## 1. Parameter Experimentation\n",
        "Let's first set up the Challenge. Load the API key and relevant Python libraries using the cells below."
      ]
    },
    {
      "cell_type": "markdown",
      "metadata": {
        "nteract": {
          "transient": {
            "deleting": false
          }
        }
      },
      "source": [
        "### 1.1 Preparation\n",
        "#### 1.1.1 Environment Setup\n"
      ]
    },
    {
      "cell_type": "markdown",
      "metadata": {
        "nteract": {
          "transient": {
            "deleting": false
          }
        }
      },
      "source": [
        "#### Create or Update the environment file \".env\"\n",
        "Create or update an environment file named as `.env` under the data and notebooks folder in your Codespace.\n",
        "\n",
        "**NOTE:** Make sure to keep the name of each model the same as the model deployment name you set in Azure OpenAI.\n",
        "\n",
        "**NOTE:** Please be aware that some AOAI models are deprecated. You should create the ones available as needed instead. To complete this challenge, gpt-35-turbo is the only model you need.\n",
        "\n",
        "For information on current models, see: [Azure OpenAI Service models](https://learn.microsoft.com/en-us/azure/ai-services/openai/concepts/models)"
      ]
    },
    {
      "cell_type": "markdown",
      "metadata": {
        "nteract": {
          "transient": {
            "deleting": false
          }
        }
      },
      "source": [
        "If you are using Azure ML Studio, if you want to change the model name in the environment file, please run the following code to make a change"
      ]
    },
    {
      "cell_type": "code",
      "execution_count": null,
      "metadata": {
        "gather": {
          "logged": 1686934377762
        },
        "jupyter": {
          "outputs_hidden": false,
          "source_hidden": false
        },
        "nteract": {
          "transient": {
            "deleting": false
          }
        }
      },
      "outputs": [],
      "source": [
        "# os.environ[{MODEL YOU WANT TO CHANGE}] = {NEW MODEL NAME}\n",
        "# print({MODEL NAME})"
      ]
    },
    {
      "cell_type": "markdown",
      "metadata": {
        "nteract": {
          "transient": {
            "deleting": false
          }
        }
      },
      "source": [
        "####  Set up Azure OpenAI Environment"
      ]
    },
    {
      "cell_type": "code",
      "execution_count": 1,
      "metadata": {
        "gather": {
          "logged": 1686932813309
        },
        "jupyter": {
          "outputs_hidden": false,
          "source_hidden": false
        },
        "nteract": {
          "transient": {
            "deleting": false
          }
        }
      },
      "outputs": [
        {
          "data": {
            "text/plain": [
              "True"
            ]
          },
          "execution_count": 1,
          "metadata": {},
          "output_type": "execute_result"
        }
      ],
      "source": [
        "import openai\n",
        "import os\n",
        "import json\n",
        "from dotenv import load_dotenv, find_dotenv\n",
        "load_dotenv(find_dotenv())"
      ]
    },
    {
      "cell_type": "code",
      "execution_count": 3,
      "metadata": {
        "gather": {
          "logged": 1686933122347
        },
        "jupyter": {
          "outputs_hidden": false,
          "source_hidden": false
        },
        "nteract": {
          "transient": {
            "deleting": false
          }
        }
      },
      "outputs": [],
      "source": [
        "API_KEY = os.getenv(\"OPENAI_API_KEY\")\n",
        "assert API_KEY, \"ERROR: Azure OpenAI Key is missing\"\n",
        "openai.api_key = API_KEY\n",
        "\n",
        "RESOURCE_ENDPOINT = os.getenv(\"OPENAI_API_BASE\",\"\").strip()\n",
        "assert RESOURCE_ENDPOINT, \"ERROR: Azure OpenAI Endpoint is missing\"\n",
        "assert \"openai.azure.com\" in RESOURCE_ENDPOINT.lower(), \"ERROR: Azure OpenAI Endpoint should be in the form: \\n\\n\\t<your unique endpoint identifier>.openai.azure.com\"\n",
        "\n",
        "openai.api_base = RESOURCE_ENDPOINT\n",
        "openai.api_type = os.getenv(\"OPENAI_API_TYPE\")\n",
        "openai.api_version = os.getenv(\"OPENAI_API_VERSION\")\n",
        "\n",
        "chat_model=os.getenv(\"CHAT_MODEL_NAME\")\n"
      ]
    },
    {
      "cell_type": "markdown",
      "metadata": {
        "nteract": {
          "transient": {
            "deleting": false
          }
        }
      },
      "source": [
        "#### 1.1.2 Parameter Explanation\n",
        "We specify the hyperparameters for the Azure OpenAI models within the helper functions. Users can tune the parameters according to different needs.\n",
        "\n",
        "\n",
        "###### **Temperature**\n",
        "Temperature ranges from 0 to 2.\n",
        "Here is a quick breakdown of how it works:\n",
        "- Low temperature (0 to 0.3): More focused, coherent, and conservative outputs.\n",
        "- Medium temperature (0.3 to 0.7): Balanced creativity and coherence.\n",
        "- High temperature (> 0.7): Highly creative and diverse, but potentially less coherent.\n",
        "\n",
        "###### **Top_p**\n",
        "Sets the probability mass cutoff for token sampling, affecting the breadth of options the AI considers. \n",
        "Higher values lead to more randomness, while lower values result in more focused outputs.\n",
        "\n",
        "The “top_p” parameter is like a filter that controls how many different words or phrases the language model considers when it’s trying to predict the next word. If you set the “top p” value to 0.5, the language model will only consider the 50 most likely words or phrases that might come next. But if you set the “top p” value to 0.9, the language model will consider the 90 most likely words or phrases.\n",
        "\n",
        "And as \"top_p\" and \"temperature\" performs similar job as hyperparameter, we usually only tune one of them instead of both.\n",
        "\n",
        "###### **Max_tokens**\n",
        "Max_tokens determine the maximum length of the generated text. By setting a limit, you can control how much text the LLM model will return, making sure it doesn't give too long of an answer.\n",
        "\n",
        "###### **Frequency_penalty**\n",
        "Frequency_penalty makes sure that the text that is generated is varied by giving a penalty to tokens that have already been used in the response.\n",
        "\n",
        "It ranges from -2.0 to 2.0, with higher values resulting in more diverse output.\n",
        "\n",
        "Positive values penalize new tokens based on their existing frequency in the text so far, decreasing the model's likelihood to repeat the same line verbatim."
      ]
    },
    {
      "cell_type": "markdown",
      "metadata": {
        "nteract": {
          "transient": {
            "deleting": false
          }
        }
      },
      "source": [
        "#### 1.1.3 Helper Function\n",
        "Throughout this hack, we will use OpenAI's `gpt-3.5-turbo` model and the [chat completions endpoint](https://platform.openai.com/docs/guides/chat). \n",
        "\n",
        "This helper function will make it easier to use prompts and look at the generated outputs.\n",
        "\n",
        "**get_chat_completion** helps create the OpenAI response using the chat model of your choice.\n",
        "\n",
        "**get_completion_from_messages** helps create the OpenAI response using the chat model of your choice, enabling chat history.\n"
      ]
    },
    {
      "cell_type": "code",
      "execution_count": 24,
      "metadata": {
        "gather": {
          "logged": 1686938673045
        },
        "jupyter": {
          "outputs_hidden": false,
          "source_hidden": false
        },
        "nteract": {
          "transient": {
            "deleting": false
          }
        }
      },
      "outputs": [],
      "source": [
        "def get_chat_completion(prompt, model=chat_model):\n",
        "    messages = [{\"role\": \"user\", \"content\": prompt}]\n",
        "    response = openai.ChatCompletion.create(\n",
        "        engine=model,\n",
        "        messages=messages,\n",
        "        temperature=0, # this is the degree of randomness of the model's output\n",
        "        max_tokens = 200,\n",
        "        top_p = 1.0\n",
        "    )\n",
        "    return response.choices[0].message[\"content\"]"
      ]
    },
    {
      "cell_type": "code",
      "execution_count": 6,
      "metadata": {
        "gather": {
          "logged": 1686938550664
        },
        "jupyter": {
          "outputs_hidden": false,
          "source_hidden": false
        },
        "nteract": {
          "transient": {
            "deleting": false
          }
        }
      },
      "outputs": [],
      "source": [
        "def get_completion_from_messages(messages, model=chat_model, temperature=0):\n",
        "    response = openai.ChatCompletion.create(\n",
        "        engine=model,\n",
        "        messages=messages,\n",
        "        temperature=temperature # this is the degree of randomness of the model's output\n",
        "    )\n",
        "\n",
        "    return response.choices[0].message[\"content\"]\n",
        "\n"
      ]
    },
    {
      "cell_type": "markdown",
      "metadata": {
        "nteract": {
          "transient": {
            "deleting": false
          }
        }
      },
      "source": [
        "#### Try out helper functions"
      ]
    },
    {
      "cell_type": "code",
      "execution_count": 23,
      "metadata": {
        "gather": {
          "logged": 1686938676516
        },
        "jupyter": {
          "outputs_hidden": false,
          "source_hidden": false
        },
        "nteract": {
          "transient": {
            "deleting": false
          }
        }
      },
      "outputs": [
        {
          "name": "stdout",
          "output_type": "stream",
          "text": [
            "Why don't skeletons fight each other?\n",
            "\n",
            "They don't have the guts!\n"
          ]
        }
      ],
      "source": [
        "messages =  f\"\"\"\n",
        "tell me a joke.\n",
        "\"\"\"\n",
        "response = get_chat_completion(messages)\n",
        "print(response)"
      ]
    },
    {
      "cell_type": "code",
      "execution_count": 18,
      "metadata": {
        "gather": {
          "logged": 1686938564787
        },
        "jupyter": {
          "outputs_hidden": false,
          "source_hidden": false
        },
        "nteract": {
          "transient": {
            "deleting": false
          }
        }
      },
      "outputs": [
        {
          "name": "stdout",
          "output_type": "stream",
          "text": [
            "To get to the other side... or so they say!\n"
          ]
        }
      ],
      "source": [
        "messages =  [      \n",
        "    {'role':'user', 'content':'tell me a joke'},   \n",
        "    {'role':'assistant', 'content':'Why did the chicken cross the road'},   \n",
        "    {'role':'user', 'content':'I don\\'t know'}\n",
        "]\n",
        "response = get_completion_from_messages(messages, temperature=1)\n",
        "print(response)"
      ]
    },
    {
      "cell_type": "markdown",
      "metadata": {
        "nteract": {
          "transient": {
            "deleting": false
          }
        }
      },
      "source": [
        "#### Student Tasks (open questions):\n",
        "1. Create a completion function for a higher temperature between (0,1).\n",
        "2. Create a completion function for a lower max_token for shorter response.\n",
        "3. Create acompletion functions with 2 different diversity penalty values between (0,2).\n",
        "\n",
        "Try out the completion functions you create on the previous case, compare the result you get."
      ]
    },
    {
      "cell_type": "code",
      "execution_count": 28,
      "metadata": {
        "jupyter": {
          "outputs_hidden": false,
          "source_hidden": false
        },
        "nteract": {
          "transient": {
            "deleting": false
          }
        }
      },
      "outputs": [
        {
          "name": "stdout",
          "output_type": "stream",
          "text": [
            "To get to the other side!\n"
          ]
        }
      ],
      "source": [
        "# Try out a completion function for a higher temperature between (0,1)\n",
        "\n",
        "\n",
        "messages =  [      \n",
        "    {'role':'user', 'content':'tell me a joke'},   \n",
        "    {'role':'assistant', 'content':'Why did the chicken cross the road'},   \n",
        "    {'role':'user', 'content':'I don\\'t know'}\n",
        "]\n",
        "response = get_completion_from_messages(messages, temperature=0.9)\n",
        "print(response)"
      ]
    },
    {
      "cell_type": "code",
      "execution_count": 39,
      "metadata": {
        "jupyter": {
          "outputs_hidden": false,
          "source_hidden": false
        },
        "nteract": {
          "transient": {
            "deleting": false
          }
        }
      },
      "outputs": [
        {
          "name": "stdout",
          "output_type": "stream",
          "text": [
            "Why don't skeletons fight each other?\n",
            "\n",
            "They don\n"
          ]
        }
      ],
      "source": [
        "# Try out a completion function for a lower max_token for shorter response\n",
        "\n",
        "def get_chat_completion(prompt, model=chat_model):\n",
        "    messages = [{\"role\": \"user\", \"content\": prompt}]\n",
        "    response = openai.ChatCompletion.create(\n",
        "        engine=model,\n",
        "        messages=messages,\n",
        "        temperature=0, # this is the degree of randomness of the model's output\n",
        "        max_tokens = 10,\n",
        "        top_p = 1.0\n",
        "    )\n",
        "    return response.choices[0].message[\"content\"]\n",
        "\n",
        "messages =  f\"\"\"\n",
        "tell me a joke.\n",
        "\"\"\"\n",
        "response = get_chat_completion(messages)\n",
        "print(response)"
      ]
    },
    {
      "cell_type": "code",
      "execution_count": 41,
      "metadata": {
        "jupyter": {
          "outputs_hidden": false,
          "source_hidden": false
        },
        "nteract": {
          "transient": {
            "deleting": false
          }
        }
      },
      "outputs": [
        {
          "name": "stdout",
          "output_type": "stream",
          "text": [
            "Why don't skeletons fight each other?\n",
            "\n",
            "They don't have the guts!\n"
          ]
        }
      ],
      "source": [
        "# Try out completion functions with 2 different diversity penalty values between (0,2)\n",
        "\n",
        "# Try out a completion function for a lower max_token for shorter response\n",
        "\n",
        "def get_chat_completion(prompt, model=chat_model):\n",
        "    messages = [{\"role\": \"user\", \"content\": prompt}]\n",
        "    response = openai.ChatCompletion.create(\n",
        "        engine=model,\n",
        "        messages=messages,\n",
        "        temperature=0, # this is the degree of randomness of the model's output\n",
        "        max_tokens = 200,\n",
        "        top_p = 1.0\n",
        "    )\n",
        "    return response.choices[0].message[\"content\"]\n",
        "\n",
        "messages =  f\"\"\"\n",
        "tell me a joke.\n",
        "\"\"\"\n",
        "response = get_chat_completion(messages)\n",
        "print(response)"
      ]
    },
    {
      "cell_type": "markdown",
      "metadata": {
        "nteract": {
          "transient": {
            "deleting": false
          }
        }
      },
      "source": [
        "### 1.2 System Message Engineering\n",
        "Users can achieve the response from models in their desired tone through adjusting the system message."
      ]
    },
    {
      "cell_type": "markdown",
      "metadata": {
        "nteract": {
          "transient": {
            "deleting": false
          }
        }
      },
      "source": [
        "#### 1.2.1 Change of Tone"
      ]
    },
    {
      "cell_type": "code",
      "execution_count": 42,
      "metadata": {
        "gather": {
          "logged": 1685476487849
        },
        "jupyter": {
          "outputs_hidden": false,
          "source_hidden": false
        },
        "nteract": {
          "transient": {
            "deleting": false
          }
        }
      },
      "outputs": [
        {
          "name": "stdout",
          "output_type": "stream",
          "text": [
            "Why don't skeletons fight each other?\n",
            "\n",
            "They don't have the guts.\n"
          ]
        }
      ],
      "source": [
        "messages =  [      \n",
        "    {'role':'assistant', 'content':'How can I help you?'},\n",
        "    {'role':'user', 'content':'tell me a joke'}\n",
        "]\n",
        "response = get_completion_from_messages(messages, temperature=1)\n",
        "print(response)"
      ]
    },
    {
      "cell_type": "code",
      "execution_count": 43,
      "metadata": {
        "gather": {
          "logged": 1685059077359
        },
        "jupyter": {
          "outputs_hidden": false,
          "source_hidden": false
        },
        "nteract": {
          "transient": {
            "deleting": false
          }
        }
      },
      "outputs": [
        {
          "name": "stdout",
          "output_type": "stream",
          "text": [
            "Why did the old man fall in the well? Because he couldn't see that well!\n"
          ]
        }
      ],
      "source": [
        "messages =  [  \n",
        "    {'role':'system', 'content':'You are an assistant that speaks like Shakespeare.'},    \n",
        "    {'role':'assistant', 'content':'How can I help you?'},\n",
        "    {'role':'user', 'content':'tell me a joke'}\n",
        "]\n",
        "response = get_completion_from_messages(messages, temperature=1)\n",
        "print(response)"
      ]
    },
    {
      "cell_type": "markdown",
      "metadata": {
        "nteract": {
          "transient": {
            "deleting": false
          }
        }
      },
      "source": [
        "#### Student Task (open question):\n",
        "Make the assistant tell the joke in the tone of your favorite character by editing the system message.\n"
      ]
    },
    {
      "cell_type": "code",
      "execution_count": 50,
      "metadata": {
        "gather": {
          "logged": 1686939630607
        },
        "jupyter": {
          "outputs_hidden": false,
          "source_hidden": false
        },
        "nteract": {
          "transient": {
            "deleting": false
          }
        }
      },
      "outputs": [
        {
          "name": "stdout",
          "output_type": "stream",
          "text": [
            "I've got the best jokes, believe me. Here's one for you: Why don't scientists trust atoms? Because they make up everything!\n"
          ]
        }
      ],
      "source": [
        "# Make the assistant tell the joke in the tone of your favorite character by editing the system message.\n",
        "\n",
        "messages =  [  \n",
        "{'role':'system', 'content':'You are Donald Trump.'},  \n",
        "{'role':'user', 'content':'Tell me a joke.'}\n",
        "]\n",
        "response = get_completion_from_messages(messages, temperature=1)\n",
        "print(response)"
      ]
    },
    {
      "cell_type": "markdown",
      "metadata": {
        "nteract": {
          "transient": {
            "deleting": false
          }
        }
      },
      "source": [
        "#### 1.2.2 Remind the Company Name"
      ]
    },
    {
      "cell_type": "code",
      "execution_count": 44,
      "metadata": {
        "gather": {
          "logged": 1685059130793
        },
        "jupyter": {
          "outputs_hidden": false,
          "source_hidden": false
        },
        "nteract": {
          "transient": {
            "deleting": false
          }
        }
      },
      "outputs": [
        {
          "name": "stdout",
          "output_type": "stream",
          "text": [
            "You work for [insert company name]. How can I assist you further?\n"
          ]
        }
      ],
      "source": [
        "messages =  [  \n",
        "{'role':'system', 'content':'You are friendly chatbot.'},  \n",
        "{'role':'user', 'content':'Hi, my name is Mel.'},\n",
        "{'role':'assistant', 'content': \"Hi! It's nice to meet you. \\\n",
        "Is there anything I can help you with today?\"},  \n",
        "{'role':'user', 'content':'Yes, can you remind me which company I work for?'}  ]\n",
        "response = get_completion_from_messages(messages, temperature=1)\n",
        "print(response)"
      ]
    },
    {
      "cell_type": "markdown",
      "metadata": {
        "nteract": {
          "transient": {
            "deleting": false
          }
        }
      },
      "source": [
        "#### Student Task: \n",
        "Make the assistant give a reliable reminder of company name by giving context in the system message."
      ]
    },
    {
      "cell_type": "code",
      "execution_count": 46,
      "metadata": {
        "gather": {
          "logged": 1686939642577
        },
        "jupyter": {
          "outputs_hidden": false,
          "source_hidden": false
        },
        "nteract": {
          "transient": {
            "deleting": false
          }
        }
      },
      "outputs": [
        {
          "name": "stdout",
          "output_type": "stream",
          "text": [
            "You mentioned working for Bill Gates' main company earlier. If that's the case, you are likely referring to Microsoft, a well-known technology company founded by Bill Gates.\n"
          ]
        }
      ],
      "source": [
        "# Make the assistant give a reliable reminder of company name by giving context in system message.\n",
        "\n",
        "messages =  [  \n",
        "{'role':'system', 'content':'You are friendly chatbot.'},  \n",
        "{'role':'user', 'content':'Hi, my name is Mel. I work for Bill Gates main company.'},\n",
        "{'role':'assistant', 'content': \"Hi! It's nice to meet you. \\\n",
        "Is there anything I can help you with today?\"},  \n",
        "{'role':'user', 'content':'Yes, can you remind me which company I work for?'}  ]\n",
        "response = get_completion_from_messages(messages, temperature=1)\n",
        "print(response)"
      ]
    },
    {
      "cell_type": "markdown",
      "metadata": {
        "nteract": {
          "transient": {
            "deleting": false
          }
        }
      },
      "source": [
        "## 2. Iterative Prompting Principles\n",
        "It is generally a good practice to perform iterative prompting so the model could generate the most appropriate response given the user's specification. \n",
        "- **Principle 1: Write clear and specific instructions**\n",
        "- **Principle 2: Give the model time to “think”**\n",
        "\n"
      ]
    },
    {
      "cell_type": "markdown",
      "metadata": {
        "nteract": {
          "transient": {
            "deleting": false
          }
        }
      },
      "source": [
        "### 2.1 Write clear and specific instructions"
      ]
    },
    {
      "cell_type": "markdown",
      "metadata": {
        "nteract": {
          "transient": {
            "deleting": false
          }
        }
      },
      "source": [
        "#### Tactic 1: Delimiters"
      ]
    },
    {
      "cell_type": "markdown",
      "metadata": {
        "nteract": {
          "transient": {
            "deleting": false
          }
        }
      },
      "source": [
        "#### Student Task:\n",
        "Use delimiters to clearly indicate distinct parts of the input\n",
        "\n",
        "Delimiters can be anything like: ````, \"\"\", < >, `<tag> </tag>`, `:`"
      ]
    },
    {
      "cell_type": "code",
      "execution_count": 51,
      "metadata": {
        "gather": {
          "logged": 1685081594233
        },
        "jupyter": {
          "outputs_hidden": false,
          "source_hidden": false
        },
        "nteract": {
          "transient": {
            "deleting": false
          }
        }
      },
      "outputs": [],
      "source": [
        "text = f\"\"\"\n",
        "    The 2020 Summer Olympics, officially the Games of the XXXII Olympiad and also known as Tokyo 2020, was an international multi-sport event held from 23 July to 8 August 2021 in Tokyo, Japan, with some preliminary events that began on 21 July 2021. Tokyo was selected as the host city during the 125th IOC Session in Buenos Aires, Argentina, on 7 September 2013.Originally scheduled to take place from 24 July to 9 August 2020, the event was postponed to 2021 on 24 March 2020 due to the global COVID-19 pandemic, the first such instance in the history of the Olympic Games (previous games had been cancelled but not rescheduled). However, the event retained the Tokyo 2020 branding for marketing purposes. It was largely held behind closed doors with no public spectators permitted due to the declaration of a state of emergency in the Greater Tokyo Area in response to the pandemic, the first and only Olympic Games to be held without official spectators. The Games were the most expensive ever, with total spending of over $20 billion.The Games were the fourth Olympic Games to be held in Japan, following the 1964 Summer Olympics (Tokyo), 1972 Winter Olympics (Sapporo), and 1998 Winter Olympics (Nagano). Tokyo became the first city in Asia to hold the Summer Olympic Games twice. The 2020 Games were the second of three consecutive Olympics to be held in East Asia, following the 2018 Winter Olympics in Pyeongchang, South Korea and preceding the 2022 Winter Olympics in Beijing, China. Due to the one-year postponement, Tokyo 2020 was the first and only Olympic Games to have been held in an odd-numbered year and the first Summer Olympics since 1900 to be held in a non-leap year.\\nNew events were introduced in existing sports, including 3x3 basketball, freestyle BMX and mixed gender team events in a number of existing sports, as well as the return of madison cycling for men and an introduction of the same event for women. New IOC policies also allowed the host organizing committee to add new sports to the Olympic program for just one Games. The disciplines added by the Japanese Olympic Committee were baseball and softball, karate, sport climbing, surfing and skateboarding, the last four of which made their Olympic debuts, and the last three of which will remain on the Olympic program.The United States topped the medal count by both total golds (39) and total medals (113), with China finishing second by both respects (38 and 89). Host nation Japan finished third, setting a record for the most gold medals and total medals ever won by their delegation at an Olympic Games with 27 and 58. Great Britain finished fourth, with a total of 22 gold and 64 medals. The Russian delegation competing as the ROC finished fifth with 20 gold medals and third in the overall medal count, with 71 medals. Bermuda, the Philippines and Qatar won their first-ever Olympic gold medals. Burkina Faso, San Marino and Turkmenistan also won their first-ever Olympic medals.'\n",
        "\"\"\""
      ]
    },
    {
      "cell_type": "code",
      "execution_count": 57,
      "metadata": {
        "jupyter": {
          "outputs_hidden": false,
          "source_hidden": false
        },
        "nteract": {
          "transient": {
            "deleting": false
          }
        }
      },
      "outputs": [
        {
          "name": "stdout",
          "output_type": "stream",
          "text": [
            "The 2020 Summer Olympics, referred to as Tokyo 2020, were held in 2021 due to the COVID-19 pandemic. The Games were largely held without spectators and were the most expensive ever, with new sports and events added. The United States topped the medal count, with Japan achieving a record number of medals. Several countries, including Bermuda, the Philippines, Qatar, Burkina Faso, San Marino, and Turkmenistan, won their first-ever Olympic medals.\n",
            "The 2020 Summer Olympics, officially known as the Tokyo 2020 Games, took place from 23 July to 8 August 2021 in Tokyo, Japan. Originally scheduled for 2020, the event was postponed due to the COVID-19 pandemic, making it the first Olympic Games to be rescheduled in history. The Games were held mostly without spectators due to the pandemic. It was the most expensive Olympic Games ever, with a total spending of over $20 billion. New events were introduced, and the host country, Japan, added new sports to the program for just one Games. The United States topped the medal count, followed by China and host nation Japan. Several countries won their first-ever Olympic gold medals, and others earned their first-ever Olympic medals.\n"
          ]
        }
      ],
      "source": [
        "# Use delimiters to clearly indicate distinct parts of the input, and ask the model to summarize the text.\n",
        "\n",
        "text2 = f\"\"\"\n",
        "    <The 2020 Summer Olympics, officially the Games of the XXXII Olympiad and also known as Tokyo 2020>\n",
        "    <Tokyo 2020 was an international multi-sport event held from 23 July to 8 August 2021 in Tokyo, Japan, with some preliminary events that began on 21 July 2021>\n",
        "    <Tokyo was selected as the host city during the 125th IOC Session in Buenos Aires, Argentina, on 7 September 2013.>\n",
        "    <Originally scheduled to take place from 24 July to 9 August 2020, the event was postponed to 2021 on 24 March 2020 due to the global COVID-19 pandemic.>\n",
        "    <The first such instance in the history of the Olympic Games (previous games had been cancelled but not rescheduled).>\n",
        "    <The event retained the Tokyo 2020 branding for marketing purposes.>\n",
        "    <It was largely held behind closed doors with no public spectators permitted.>\n",
        "    <due to the declaration of a state of emergency in the Greater Tokyo Area in response to the pandemic, the first and only Olympic Games to be held without official spectators.>\n",
        "    <The Games were the most expensive ever, with total spending of over $20 billion.>\n",
        "    <The Games were the fourth Olympic Games to be held in Japan, following the 1964 Summer Olympics (Tokyo), 1972 Winter Olympics (Sapporo), and 1998 Winter Olympics (Nagano). >\n",
        "    <Tokyo became the first city in Asia to hold the Summer Olympic Games twice. >\n",
        "    <The 2020 Games were the second of three consecutive Olympics to be held in East Asia, following the 2018 Winter Olympics in Pyeongchang, South Korea and preceding the 2022 Winter Olympics in Beijing, China. >\n",
        "    <Due to the one-year postponement, Tokyo 2020 was the first and only Olympic Games to have been held in an odd-numbered year and the first Summer Olympics since 1900 to be held in a non-leap year.>\n",
        "    <New events were introduced in existing sports, including 3x3 basketball, freestyle BMX and mixed gender team events in a number of existing sports, as well as the return of madison cycling for men and an introduction of the same event for women. >\n",
        "    <New IOC policies also allowed the host organizing committee to add new sports to the Olympic program for just one Games. >\n",
        "    <The disciplines added by the Japanese Olympic Committee were baseball and softball, karate, sport climbing, surfing and skateboarding, the last four of which made their Olympic debuts, and the last three of which will remain on the Olympic program.>\n",
        "    <The United States topped the medal count by both total golds (39) and total medals (113), with China finishing second by both respects (38 and 89). >\n",
        "    <Host nation Japan finished third, setting a record for the most gold medals and total medals ever won by their delegation at an Olympic Games with 27 and 58. Great Britain finished fourth, with a total of 22 gold and 64 medals. >\n",
        "    The Russian delegation competing as the ROC finished fifth with 20 gold medals and third in the overall medal count, with 71 medals. Bermuda, the Philippines and Qatar won their first-ever Olympic gold medals. >\n",
        "    <Burkina Faso, San Marino and Turkmenistan also won their first-ever Olympic medals.>\n",
        "\"\"\"\n",
        "\n",
        "messages =  [  \n",
        "{'role':'system', 'content':'You are an AI assistant that helps people find information.'},  \n",
        "{'role':'user', 'content': text}, \n",
        "{'role':'user', 'content':'Please, could you summarize the text?'}  ]\n",
        "response = get_completion_from_messages(messages, temperature=1)\n",
        "print(response)\n",
        "\n",
        "\n",
        "messages =  [  \n",
        "{'role':'system', 'content':'You are an AI assistant that helps people find information.'},  \n",
        "{'role':'user', 'content': text2}, \n",
        "{'role':'user', 'content':'Please, could you summarize the text?'}  ]\n",
        "response = get_completion_from_messages(messages, temperature=1)\n",
        "print(response)"
      ]
    },
    {
      "cell_type": "markdown",
      "metadata": {
        "nteract": {
          "transient": {
            "deleting": false
          }
        }
      },
      "source": [
        "#### Tactic 2: Summarization: specify word counts, extract information"
      ]
    },
    {
      "cell_type": "markdown",
      "metadata": {
        "nteract": {
          "transient": {
            "deleting": false
          }
        }
      },
      "source": [
        "#### Text to summarize"
      ]
    },
    {
      "cell_type": "code",
      "execution_count": 58,
      "metadata": {
        "gather": {
          "logged": 1685059771050
        },
        "jupyter": {
          "outputs_hidden": false,
          "source_hidden": false
        },
        "nteract": {
          "transient": {
            "deleting": false
          }
        }
      },
      "outputs": [],
      "source": [
        "game_review = \"\"\"\n",
        "The 2020 Summer Olympics, officially the Games of the XXXII Olympiad and also known as Tokyo 2020, \\\n",
        "was an international multi-sport event held from 23 July to 8 August 2021 in Tokyo, Japan, \\\n",
        "with some preliminary events that began on 21 July 2021. Tokyo was selected as the host city during the 125th IOC Session in Buenos Aires, Argentina, \\\n",
        "on 7 September 2013.Originally scheduled to take place from 24 July to 9 August 2020, the event was postponed to 2021 on 24 March 2020 due to the global COVID-19 pandemic, \\\n",
        "the first such instance in the history of the Olympic Games (previous games had been cancelled but not rescheduled). \\\n",
        "However, the event retained the Tokyo 2020 branding for marketing purposes. \\\n",
        "It was largely held behind closed doors with no public spectators permitted due to the declaration of a state of emergency in the Greater Tokyo Area in response to the pandemic, the first and only Olympic Games to be held without official spectators. \\\n",
        "The Games were the most expensive ever, with total spending of over $20 billion. \\\n",
        "The Games were the fourth Olympic Games to be held in Japan, following the 1964 Summer Olympics (Tokyo), 1972 Winter Olympics (Sapporo), \\\n",
        "and 1998 Winter Olympics (Nagano). Tokyo became the first city in Asia to hold the Summer Olympic Games twice. \\\n",
        "The 2020 Games were the second of three consecutive Olympics to be held in East Asia, following the 2018 Winter Olympics in Pyeongchang, \\\n",
        "South Korea and preceding the 2022 Winter Olympics in Beijing, China. \\\n",
        "Due to the one-year postponement, Tokyo 2020 was the first and only Olympic Games to have been held in an odd-numbered year and the first Summer Olympics since 1900 to be held in a non-leap year.\n",
        "New events were introduced in existing sports, including 3x3 basketball, \\\n",
        "freestyle BMX and mixed gender team events in a number of existing sports, as well as the return of madison cycling for men and an introduction of the same event for women. \\\n",
        "New IOC policies also allowed the host organizing committee to add new sports to the Olympic program for just one Games. \\\n",
        "The disciplines added by the Japanese Olympic Committee were baseball and softball, karate, \\\n",
        "sport climbing, surfing and skateboarding, the last four of which made their Olympic debuts, and the last three of which will remain on the Olympic program. \\\n",
        "The United States topped the medal count by both total golds (39) and total medals (113), with China finishing second by both respects (38 and 89). \\\n",
        "Host nation Japan finished third, setting a record for the most gold medals and total medals ever won by their delegation at an Olympic Games with 27 and 58. \\\n",
        "Great Britain finished fourth, with a total of 22 gold and 64 medals. \\\n",
        "The Russian delegation competing as the ROC finished fifth with 20 gold medals and third in the overall medal count, with 71 medals. \\\n",
        "Bermuda, the Philippines and Qatar won their first-ever Olympic gold medals. Burkina Faso, San Marino and Turkmenistan also won their first-ever Olympic medals.\n",
        "\"\"\""
      ]
    },
    {
      "cell_type": "markdown",
      "metadata": {
        "nteract": {
          "transient": {
            "deleting": false
          }
        }
      },
      "source": [
        "#### Student Task:\n",
        "Summarize with a focus on the special parts of the 2020 Summer Olympics and with a word limit"
      ]
    },
    {
      "cell_type": "code",
      "execution_count": 63,
      "metadata": {
        "jupyter": {
          "outputs_hidden": false,
          "source_hidden": false
        },
        "nteract": {
          "transient": {
            "deleting": false
          }
        }
      },
      "outputs": [
        {
          "name": "stdout",
          "output_type": "stream",
          "text": [
            "The 2020 Summer Olympics was held in Tokyo in 2021, with new sports, no spectators, and record-breaking performances.\n",
            "The 2020 Summer Olympics, held in 2021 due to the COVID-19 pandemic, featured new events like 3x3 basketball and skateboarding. The Games were the first to be held without official spectators and marked the Olympic debut of sports like sport climbing and surfing. The United States topped the medal count with 39 golds and 113 total medals.\n"
          ]
        }
      ],
      "source": [
        "# Summarize with a focus on the special parts of the 2020 Summer Olympics and with a word limit\n",
        "\n",
        "\n",
        "messages =  [  \n",
        "{'role':'system', 'content':'You are an AI assistant that helps people find information.'},  \n",
        "{'role':'user', 'content': text}, \n",
        "{'role':'user', 'content':'Summarize with a focus on the special parts of the 2020 Summer Olympics and with a 20 words limit'}  ]\n",
        "response = get_completion_from_messages(messages, temperature=1)\n",
        "print(response)\n",
        "\n",
        "messages =  [  \n",
        "{'role':'system', 'content':'You are an AI assistant that helps people find information.'},  \n",
        "{'role':'user', 'content': text}, \n",
        "{'role':'user', 'content':'Summarize with a focus on the special parts of the 2020 Summer Olympics and with a 50 words limit'}  ]\n",
        "response = get_completion_from_messages(messages, temperature=1)\n",
        "print(response)"
      ]
    },
    {
      "cell_type": "markdown",
      "metadata": {
        "nteract": {
          "transient": {
            "deleting": false
          }
        }
      },
      "source": [
        "#### Student Task:\n",
        "Try \"extract\" instead of \"summarize\""
      ]
    },
    {
      "cell_type": "code",
      "execution_count": 62,
      "metadata": {
        "jupyter": {
          "outputs_hidden": false,
          "source_hidden": false
        },
        "nteract": {
          "transient": {
            "deleting": false
          }
        }
      },
      "outputs": [
        {
          "name": "stdout",
          "output_type": "stream",
          "text": [
            "The 2020 Summer Olympics in Tokyo featured new sports, postponed due to COVID-19, and a unique medal count.\n"
          ]
        }
      ],
      "source": [
        "# Try \"extract\" instead of \"summarize\"\n",
        "\n",
        "messages =  [  \n",
        "{'role':'system', 'content':'You are an AI assistant that helps people find information.'},  \n",
        "{'role':'user', 'content': text}, \n",
        "{'role':'user', 'content':'Extract with a focus on the special parts of the 2020 Summer Olympics and with a 20 words limit'}  ]\n",
        "response = get_completion_from_messages(messages, temperature=1)\n",
        "print(response)"
      ]
    },
    {
      "cell_type": "markdown",
      "metadata": {
        "nteract": {
          "transient": {
            "deleting": false
          }
        }
      },
      "source": [
        "#### Tactic 3: Inferring: ask for emotions, sentiment, or topics "
      ]
    },
    {
      "cell_type": "markdown",
      "metadata": {
        "nteract": {
          "transient": {
            "deleting": false
          }
        }
      },
      "source": [
        "#### Student Task:\n",
        "Identify types of emotions and sentiment (positive/negative) of the review below\n",
        "\n",
        "Format in a JSON object"
      ]
    },
    {
      "cell_type": "code",
      "execution_count": 64,
      "metadata": {
        "jupyter": {
          "outputs_hidden": false,
          "source_hidden": false
        },
        "nteract": {
          "transient": {
            "deleting": false
          }
        }
      },
      "outputs": [],
      "source": [
        "review = \"\"\"\n",
        "Philip Barker of Inside the Games opined that for many athletes and supporters, \\\n",
        "the tone of the ceremony was dignified and appropriate. Hashimoto stated in a press interview that the flame would \"quietly go out\", \\\n",
        "which he felt that \"It was an apt description of a dignified and low key Ceremony which conveyed a sense of gratitude that the Games had been able to take place at all.\"\\\n",
        "Dominic Patten of Deadline Hollywood argued that the ceremony was an \"uneven mixtape\" of contrasts, \\\n",
        "comparing the low-key \"celebration of the culture of the Asian power and brow moping acknowledgement of the pandemic\" to the jubilant Paris segment, \\\n",
        "as well as clichÃ©-filled speech of Thomas Bach. Alan Tyres of The Daily Telegraph discussed the IOC updated motto as a sign of things to come. \\\n",
        "He stated, \"The updated Olympic motto of 'faster, higher, \\\n",
        "stronger â€“ together' fits with how sport is covered and contextualised at this moment in history: \\\n",
        "inclusion, diversity, justice and a duty of care to the athletes must be taken into consideration as much as performance.\" \\\n",
        "He also discussed the strangeness of the ceremony, as it was performed without a stadium audience.\n",
        "\"\"\""
      ]
    },
    {
      "cell_type": "code",
      "execution_count": 69,
      "metadata": {
        "jupyter": {
          "outputs_hidden": false,
          "source_hidden": false
        },
        "nteract": {
          "transient": {
            "deleting": false
          }
        }
      },
      "outputs": [
        {
          "name": "stdout",
          "output_type": "stream",
          "text": [
            "{\n",
            "  \"sentences\": [\n",
            "    {\n",
            "      \"text\": \"Philip Barker of Inside the Games opined that for many athletes and supporters, the tone of the ceremony was dignified and appropriate.\",\n",
            "      \"sentiment\": \"positive\",\n",
            "      \"emotions\": [\"dignified\", \"appropriate\"]\n",
            "    },\n",
            "    {\n",
            "      \"text\": \"Hashimoto stated in a press interview that the flame would \\\"quietly go out\\\", which he felt that \\\"It was an apt description of a dignified and low key Ceremony which conveyed a sense of gratitude that the Games had been able to take place at all.\\\"\",\n",
            "      \"sentiment\": \"positive\",\n",
            "      \"emotions\": [\"dignified\", \"gratitude\", \"quiet\"]\n",
            "    },\n",
            "    {\n",
            "      \"text\": \"Dominic Patten of Deadline Hollywood argued that the ceremony was an \\\"uneven mixtape\\\" of contrasts, comparing the low-key \\\"celebration of the culture of the Asian power and brow moping acknowledgement of the pandemic\\\" to the jubilant Paris segment, as well as clichÃ©-filled speech of Thomas Bach.\",\n",
            "      \"sentiment\": \"negative\",\n",
            "      \"emotions\": [\"uneven\", \"contrasts\", \"acknowledgement\", \"cliché-filled\"]\n",
            "    },\n",
            "    {\n",
            "      \"text\": \"Alan Tyres of The Daily Telegraph discussed the IOC updated motto as a sign of things to come. He stated, \\\"The updated Olympic motto of 'faster, higher, stronger â€“ together' fits with how sport is covered and contextualised at this moment in history: inclusion, diversity, justice and a duty of care to the athletes must be taken into consideration as much as performance.\\\" He also discussed the strangeness of the ceremony, as it was performed without a stadium audience.\",\n",
            "      \"sentiment\": \"positive\",\n",
            "      \"emotions\": [\"inclusion\", \"diversity\", \"justice\", \"duty of care\", \"strangeness\"]\n",
            "    }\n",
            "  ]\n",
            "}\n"
          ]
        }
      ],
      "source": [
        "# Identify types of emotions and sentiment (positive/negative) of the review above. Format in a JSON object.\n",
        "messages =  [  \n",
        "{'role':'system', 'content': 'Identify types of emotions as JSON objects'}, \n",
        "{'role':'system', 'content': 'Identify types of sentiment (positive/negative) as values'}, \n",
        "{'role':'system', 'content': 'Response in JSON format'}, \n",
        "{'role':'user', 'content':review}  ]\n",
        "response = get_completion_from_messages(messages, temperature=1)\n",
        "print(response)"
      ]
    },
    {
      "cell_type": "markdown",
      "metadata": {
        "nteract": {
          "transient": {
            "deleting": false
          }
        }
      },
      "source": [
        "#### Student Challenge:\n",
        "Infer 3 topics of the story below"
      ]
    },
    {
      "cell_type": "code",
      "execution_count": 66,
      "metadata": {
        "jupyter": {
          "outputs_hidden": false,
          "source_hidden": false
        },
        "nteract": {
          "transient": {
            "deleting": false
          }
        }
      },
      "outputs": [],
      "source": [
        "story = \"\"\"\n",
        "The 2020 Summer Olympics, officially the Games of the XXXII Olympiad and also known as Tokyo 2020, \\\n",
        "was an international multi-sport event held from 23 July to 8 August 2021 in Tokyo, Japan, \\\n",
        "with some preliminary events that began on 21 July 2021. Tokyo was selected as the host city during the 125th IOC Session in Buenos Aires, Argentina, \\\n",
        "on 7 September 2013.Originally scheduled to take place from 24 July to 9 August 2020, the event was postponed to 2021 on 24 March 2020 due to the global COVID-19 pandemic, \\\n",
        "the first such instance in the history of the Olympic Games (previous games had been cancelled but not rescheduled). \\\n",
        "However, the event retained the Tokyo 2020 branding for marketing purposes. \\\n",
        "It was largely held behind closed doors with no public spectators permitted due to the declaration of a state of emergency in the Greater Tokyo Area in response to the pandemic, the first and only Olympic Games to be held without official spectators. \\\n",
        "The Games were the most expensive ever, with total spending of over $20 billion. \\\n",
        "The Games were the fourth Olympic Games to be held in Japan, following the 1964 Summer Olympics (Tokyo), 1972 Winter Olympics (Sapporo), \\\n",
        "and 1998 Winter Olympics (Nagano). Tokyo became the first city in Asia to hold the Summer Olympic Games twice. \\\n",
        "The 2020 Games were the second of three consecutive Olympics to be held in East Asia, following the 2018 Winter Olympics in Pyeongchang, \\\n",
        "South Korea and preceding the 2022 Winter Olympics in Beijing, China. \\\n",
        "Due to the one-year postponement, Tokyo 2020 was the first and only Olympic Games to have been held in an odd-numbered year and the first Summer Olympics since 1900 to be held in a non-leap year.\n",
        "New events were introduced in existing sports, including 3x3 basketball, \\\n",
        "freestyle BMX and mixed gender team events in a number of existing sports, as well as the return of madison cycling for men and an introduction of the same event for women. \\\n",
        "New IOC policies also allowed the host organizing committee to add new sports to the Olympic program for just one Games. \\\n",
        "The disciplines added by the Japanese Olympic Committee were baseball and softball, karate, \\\n",
        "sport climbing, surfing and skateboarding, the last four of which made their Olympic debuts, and the last three of which will remain on the Olympic program. \\\n",
        "The United States topped the medal count by both total golds (39) and total medals (113), with China finishing second by both respects (38 and 89). \\\n",
        "Host nation Japan finished third, setting a record for the most gold medals and total medals ever won by their delegation at an Olympic Games with 27 and 58. \\\n",
        "Great Britain finished fourth, with a total of 22 gold and 64 medals. \\\n",
        "The Russian delegation competing as the ROC finished fifth with 20 gold medals and third in the overall medal count, with 71 medals. \\\n",
        "Bermuda, the Philippines and Qatar won their first-ever Olympic gold medals. Burkina Faso, San Marino and Turkmenistan also won their first-ever Olympic medals.\n",
        "\"\"\""
      ]
    },
    {
      "cell_type": "code",
      "execution_count": 71,
      "metadata": {
        "jupyter": {
          "outputs_hidden": false,
          "source_hidden": false
        },
        "nteract": {
          "transient": {
            "deleting": false
          }
        }
      },
      "outputs": [
        {
          "name": "stdout",
          "output_type": "stream",
          "text": [
            "1. Reactions to the Tokyo Olympics opening ceremony: The op-ed pieces and interviews highlighted contrasting perspectives on the tone and message conveyed by the ceremony, with some finding it dignified and appropriate while others critiqued it as a mix of uneven contrasts and clichés.\n",
            "\n",
            "2. Impact of the pandemic on the Olympics: The ceremonies' acknowledgment of the pandemic was noted as a significant aspect, with some feeling that it was symbolically integrated into the event, both in its subdued nature and moments of celebration. The absence of a stadium audience added to the sense of strangeness and highlighted the unique circumstances under which the Games were taking place.\n",
            "\n",
            "3. Changing values in the world of sports: The discussion of the IOC's updated motto \"faster, higher, stronger – together\" reflects a broader narrative about how sports are being perceived and contextualized, focusing on themes such as inclusion, diversity, justice, and the duty of care to athletes. This reflects a shift in values within the sports community, where performance is not the only focus.\n"
          ]
        }
      ],
      "source": [
        "# Infer 3 topics of the story above.\n",
        "\n",
        "messages =  [  \n",
        "{'role':'system', 'content': 'Infer 3 topics of the story'},\n",
        "{'role':'user', 'content':review}  ]\n",
        "response = get_completion_from_messages(messages, temperature=1)\n",
        "print(response) "
      ]
    },
    {
      "cell_type": "markdown",
      "metadata": {
        "nteract": {
          "transient": {
            "deleting": false
          }
        }
      },
      "source": [
        "#### Tactic 4: Transforming: specify target language and writing style, and ask for grammar check"
      ]
    },
    {
      "cell_type": "markdown",
      "metadata": {
        "nteract": {
          "transient": {
            "deleting": false
          }
        }
      },
      "source": [
        "#### Student Task:\n",
        "Universal Translator\n",
        "\n",
        "People all over the world want to know the Olympic game news in their native language. In this case, the news needs to be translated into different languages. Translate each news item below into both Korean and English."
      ]
    },
    {
      "cell_type": "code",
      "execution_count": 95,
      "metadata": {
        "jupyter": {
          "outputs_hidden": false,
          "source_hidden": false
        },
        "nteract": {
          "transient": {
            "deleting": false
          }
        }
      },
      "outputs": [],
      "source": [
        "news = [\n",
        "\"Palestine received a universality invitation from FINA to send two top-ranked swimmers (one per gender) in their respective individual events to the Olympics, \\\n",
        "based on the FINA Points System of June 28, 2021.\",\n",
        "\"比赛包括两轮：预赛和决赛。预赛成绩最好的8次接力队晋级决赛。必要时使用游泳比赛来打破平局以晋级下一轮。\"]"
      ]
    },
    {
      "cell_type": "code",
      "execution_count": 104,
      "metadata": {
        "jupyter": {
          "outputs_hidden": false,
          "source_hidden": false
        },
        "nteract": {
          "transient": {
            "deleting": false
          }
        }
      },
      "outputs": [
        {
          "name": "stdout",
          "output_type": "stream",
          "text": [
            "English:\n",
            "Palestine received a universality invitation from FINA to send two top-ranked swimmers (one per gender) in their respective individual events to the Olympics, based on the FINA Points System of June 28, 2021. The competition includes two rounds: the heats and the finals. The top 8 relay teams from the heats advance to the finals. If necessary, swim-offs are used to break ties for advancement to the next round.\n",
            "\n",
            "Korean:\n",
            "팔레스타인은 2021년 6월 28일의 FINA 포인트 시스템에 기반하여 올림픽에 각각 성별당 한 명의 최고 순위 수영 선수를 보내기 위한 FINA의 보편성 초청을 받았다. 이 대회에는 예선과 본선 두 라운드가 포함되어 있다. 예선에서 상위 8위한 계류 팀이 결승전으로 진출한다. 필요한 경우, 상위 진출을 위해 동점을 깨기 위해 수영 경기가 사용된다.\n"
          ]
        }
      ],
      "source": [
        "\n",
        "    messages =  [ \n",
        "    {'role':'system', 'content':  ' '.join(news)}, \n",
        "    {'role':'user', 'content': 'Translate each news item below into both Korean and English.'} ]\n",
        "    response = get_completion_from_messages(messages, temperature=1)\n",
        "    print(response) "
      ]
    },
    {
      "cell_type": "markdown",
      "metadata": {
        "nteract": {
          "transient": {
            "deleting": false
          }
        }
      },
      "source": [
        "#### Student Task:\n",
        "Tone Transformation\n",
        "\n",
        "Writing can vary based on the intended audience. ChatGPT can produce different tones. Transform the following message into a business letter."
      ]
    },
    {
      "cell_type": "code",
      "execution_count": 86,
      "metadata": {
        "gather": {
          "logged": 1685082786641
        },
        "jupyter": {
          "outputs_hidden": false,
          "source_hidden": false
        },
        "nteract": {
          "transient": {
            "deleting": false
          }
        }
      },
      "outputs": [],
      "source": [
        "trans_message = \"David, it's John! OMG, the Olympic game is so crazy\""
      ]
    },
    {
      "cell_type": "code",
      "execution_count": 87,
      "metadata": {
        "jupyter": {
          "outputs_hidden": false,
          "source_hidden": false
        },
        "nteract": {
          "transient": {
            "deleting": false
          }
        }
      },
      "outputs": [
        {
          "name": "stdout",
          "output_type": "stream",
          "text": [
            "Subject: Exciting Olympic Game Experience\n",
            "\n",
            "Dear David,\n",
            "\n",
            "I hope this letter finds you well. I wanted to share with you my recent experience at the Olympic Games, as it has truly been an incredible and unforgettable experience.\n",
            "\n",
            "The atmosphere at the games has been overwhelming, and the level of excitement and competition has been nothing short of extraordinary. It's truly a testament to the hard work and dedication of the athletes.\n",
            "\n",
            "I am looking forward to discussing this amazing experience with you in more detail. Perhaps we can arrange a time to meet and share our thoughts about the games and our favorite events.\n",
            "\n",
            "Best regards,\n",
            "John\n"
          ]
        }
      ],
      "source": [
        "messages =  [ \n",
        "{'role':'system', 'content': 'You are an assistant.'}, \n",
        "{'role':'user', 'content': 'Transform the following message into a business letter'},\n",
        "{'role':'user', 'content': trans_message} ]\n",
        "response = get_completion_from_messages(messages, temperature=1)\n",
        "print(response) "
      ]
    },
    {
      "cell_type": "markdown",
      "metadata": {
        "nteract": {
          "transient": {
            "deleting": false
          }
        }
      },
      "source": [
        "#### Student Task:\n",
        "Format Conversion\n",
        "\n",
        "ChatGPT can translate between formats. The prompt should describe the input and output formats. Convert the following JSON data into HTML format."
      ]
    },
    {
      "cell_type": "code",
      "execution_count": 105,
      "metadata": {
        "gather": {
          "logged": 1685083768996
        },
        "jupyter": {
          "outputs_hidden": false,
          "source_hidden": false
        },
        "nteract": {
          "transient": {
            "deleting": false
          }
        }
      },
      "outputs": [],
      "source": [
        "data_json = { \"The 2020 Summer Olympics Opening Ceremony audience name list\" :[ \n",
        "    {\"name\":\"Shyam\", \"email\":\"shyamjaiswal@gmail.com\"},\n",
        "    {\"name\":\"Bob\", \"email\":\"bob32@gmail.com\"},\n",
        "    {\"name\":\"Jai\", \"email\":\"jai87@gmail.com\"}\n",
        "]}"
      ]
    },
    {
      "cell_type": "code",
      "execution_count": 108,
      "metadata": {
        "jupyter": {
          "outputs_hidden": false,
          "source_hidden": false
        },
        "nteract": {
          "transient": {
            "deleting": false
          }
        }
      },
      "outputs": [
        {
          "name": "stdout",
          "output_type": "stream",
          "text": [
            "Sure, here's an example of how you can transform the JSON data representing the 2020 Summer Olympics Opening Ceremony audience into an HTML table:\n",
            "\n",
            "```html\n",
            "<!DOCTYPE html>\n",
            "<html lang=\"en\">\n",
            "<head>\n",
            "    <meta charset=\"UTF-8\">\n",
            "    <meta http-equiv=\"X-UA-Compatible\" content=\"IE=edge\">\n",
            "    <meta name=\"viewport\" content=\"width=device-width, initial-scale=1.0\">\n",
            "    <title>Opening Ceremony Audience</title>\n",
            "    <style>\n",
            "        table {\n",
            "            border-collapse: collapse;\n",
            "            width: 100%;\n",
            "        }\n",
            "        th, td {\n",
            "            border: 1px solid black;\n",
            "            padding: 8px;\n",
            "            text-align: center;\n",
            "        }\n",
            "    </style>\n",
            "</head>\n",
            "<body>\n",
            "    <h1>2020 Summer Olympics Opening Ceremony Audience</h1>\n",
            "    <table>\n",
            "        <thead>\n",
            "            <tr>\n",
            "                <th>Name</th>\n",
            "                <th>Email</th>\n",
            "            </tr>\n",
            "        </thead>\n",
            "        <tbody>\n",
            "            <tr>\n",
            "                <td>Shyam</td>\n",
            "                <td>shyamjaiswal@gmail.com</td>\n",
            "            </tr>\n",
            "            <tr>\n",
            "                <td>Bob</td>\n",
            "                <td>bob32@gmail.com</td>\n",
            "            </tr>\n",
            "            <tr>\n",
            "                <td>Jai</td>\n",
            "                <td>jai87@gmail.com</td>\n",
            "            </tr>\n",
            "        </tbody>\n",
            "    </table>\n",
            "</body>\n",
            "</html>\n",
            "```\n",
            "\n",
            "This HTML file creates a simple table to display the audience names and emails from the JSON data.\n"
          ]
        }
      ],
      "source": [
        "import json\n",
        "\n",
        "messages =  [ \n",
        "{'role':'system', 'content': json.dumps(data_json)}, \n",
        "{'role':'user', 'content': 'Transform from JSON to HTML'} ]\n",
        "response = get_completion_from_messages(messages, temperature=1)\n",
        "print(response) "
      ]
    },
    {
      "cell_type": "markdown",
      "metadata": {
        "nteract": {
          "transient": {
            "deleting": false
          }
        }
      },
      "source": [
        "#### Student Task:\n",
        "Spellcheck and Grammar check the following text. \n",
        "\n",
        "To signal to the LLM that you want it to proofread your text, you instruct the model to 'proofread' or 'proofread and correct'."
      ]
    },
    {
      "cell_type": "code",
      "execution_count": 109,
      "metadata": {
        "gather": {
          "logged": 1685084954682
        },
        "jupyter": {
          "outputs_hidden": false,
          "source_hidden": false
        },
        "nteract": {
          "transient": {
            "deleting": false
          }
        }
      },
      "outputs": [],
      "source": [
        "check_text = [ \n",
        "  \"Alongside the main Emblem blue, the five other colors use in the branding of the 2020 Games is : Kurenai red,   Ai blue,   Sakula pink,   Fuji purple, and   Matsuba green.\",\n",
        "  \"The competition have three round: heats, semifinals, and a final.\"\n",
        "]"
      ]
    },
    {
      "cell_type": "code",
      "execution_count": 113,
      "metadata": {
        "jupyter": {
          "outputs_hidden": false,
          "source_hidden": false
        },
        "nteract": {
          "transient": {
            "deleting": false
          }
        }
      },
      "outputs": [
        {
          "name": "stdout",
          "output_type": "stream",
          "text": [
            "Alongside the main emblem blue, the five other colors used in the branding of the 2020 Games are: Kurenai red, Ai blue, Sakura pink, Fuji purple, and Matsuba green. The competition has three rounds: heats, semifinals, and a final.\n"
          ]
        }
      ],
      "source": [
        "messages =  [ \n",
        "{'role':'system', 'content': ' '.join(check_text)}, \n",
        "{'role':'user', 'content': 'Proofread and correct'} ]\n",
        "response = get_completion_from_messages(messages, temperature=1)\n",
        "print(response) "
      ]
    },
    {
      "cell_type": "markdown",
      "metadata": {
        "nteract": {
          "transient": {
            "deleting": false
          }
        }
      },
      "source": [
        "#### Tactic 5: Expanding: customize the automated reply"
      ]
    },
    {
      "cell_type": "markdown",
      "metadata": {
        "nteract": {
          "transient": {
            "deleting": false
          }
        }
      },
      "source": [
        "#### Student Task:\n",
        "Customize the automated reply to the following customer email.\n",
        "\n",
        "The customer faced an issue while buying the Olympics game ticket."
      ]
    },
    {
      "cell_type": "code",
      "execution_count": 114,
      "metadata": {
        "gather": {
          "logged": 1685463156048
        },
        "jupyter": {
          "outputs_hidden": false,
          "source_hidden": false
        },
        "nteract": {
          "transient": {
            "deleting": false
          }
        }
      },
      "outputs": [],
      "source": [
        "# given the sentiment from the tactic on \"inferring\",\n",
        "# and the original customer message, customize the email\n",
        "sentiment = \"negative\"\n",
        "\n",
        "# review for a ticket transaction\n",
        "review = f\"\"\"\n",
        "I bought the ticket of \"Men's 100 metre freestyle swimming\" game last week.\\\n",
        "The transaction went through successfully. However, I still have not received the ticket.\\\n",
        "Over one week has passed.\\\n",
        "\"\"\""
      ]
    },
    {
      "cell_type": "code",
      "execution_count": 116,
      "metadata": {
        "jupyter": {
          "outputs_hidden": false,
          "source_hidden": false
        },
        "nteract": {
          "transient": {
            "deleting": false
          }
        }
      },
      "outputs": [
        {
          "name": "stdout",
          "output_type": "stream",
          "text": [
            "I'm sorry to hear about the delay in receiving your ticket. I understand how frustrating that must be. I can help you resolve this issue. I suggest reaching out to the ticket provider or the event organizer to inquire about the status of your ticket. They should be able to provide you with an update and assist you in receiving your ticket promptly. If you need any assistance in contacting them or require further help, feel free to ask, and I'll be happy to help you.\n"
          ]
        }
      ],
      "source": [
        "messages =  [ \n",
        "{'role':'system', 'content': 'You are an assistant with empaty.'}, \n",
        "{'role':'assistant', 'content': 'How can I help you?'}, \n",
        "{'role':'user', 'content': review},\n",
        "{'role':'assistant', 'content': 'Apologies to the customer and offer a solution.'} ]\n",
        "response = get_completion_from_messages(messages, temperature=1)\n",
        "print(response) "
      ]
    },
    {
      "cell_type": "markdown",
      "metadata": {
        "nteract": {
          "transient": {
            "deleting": false
          }
        }
      },
      "source": [
        "#### Tactic 6: Chatbot: personalize conversations for specific tasks or behaviors"
      ]
    },
    {
      "cell_type": "markdown",
      "metadata": {
        "nteract": {
          "transient": {
            "deleting": false
          }
        }
      },
      "source": [
        "#### Student Task:\n",
        "Create a conversation with chatbot to know where the 2020 Summer Olympics is held."
      ]
    },
    {
      "cell_type": "code",
      "execution_count": 117,
      "metadata": {
        "jupyter": {
          "outputs_hidden": false,
          "source_hidden": false
        },
        "nteract": {
          "transient": {
            "deleting": false
          }
        }
      },
      "outputs": [
        {
          "name": "stdout",
          "output_type": "stream",
          "text": [
            "The 2020 Summer Olympics, which were postponed to 2021 due to the COVID-19 pandemic, were held in Tokyo, Japan.\n"
          ]
        }
      ],
      "source": [
        "messages =  [ \n",
        "{'role':'system', 'content': 'You are an assistant.'}, \n",
        "{'role':'assistant', 'content': 'How can I help you?'}, \n",
        "{'role':'user', 'content': 'Where the 2020 Summer Olympics is held?'},\n",
        "{'role':'assistant', 'content': 'Provide a answer to the question.'} ]\n",
        "response = get_completion_from_messages(messages, temperature=1)\n",
        "print(response) "
      ]
    },
    {
      "cell_type": "markdown",
      "metadata": {
        "nteract": {
          "transient": {
            "deleting": false
          }
        }
      },
      "source": [
        "### 2.2 Give the model time to “think” "
      ]
    },
    {
      "cell_type": "markdown",
      "metadata": {
        "nteract": {
          "transient": {
            "deleting": false
          }
        }
      },
      "source": [
        "#### Tactic 1: Specify the steps required to complete a task\n",
        "Sometimes you can help the model \"slow down\" and give more robust, detailed answers by specifying the steps it should take.\n",
        "\n",
        "Let's ask for output in multiple specified formats."
      ]
    },
    {
      "cell_type": "code",
      "execution_count": 121,
      "metadata": {
        "gather": {
          "logged": 1685051679218
        },
        "jupyter": {
          "outputs_hidden": false,
          "source_hidden": false
        },
        "nteract": {
          "transient": {
            "deleting": false
          }
        }
      },
      "outputs": [
        {
          "name": "stdout",
          "output_type": "stream",
          "text": [
            "```2020 Summer Olympics: A Recap```\n",
            "\n",
            "Keywords:\n",
            "1. 2020 Summer Olympics\n",
            "2. Tokyo 2020\n",
            "3. COVID-19 pandemic\n",
            "4. Olympic Games\n",
            "5. Medal count\n",
            "\n",
            "Article Publishing Information\n",
            "\n",
            "| Title                    | Keywords                                      |\n",
            "|--------------------------|-----------------------------------------------|\n",
            "| 2020 Summer Olympics     | 2020 Summer Olympics, Tokyo 2020, Olympic Games |\n",
            "| A Recap                  | COVID-19 pandemic, Medal count                |\n"
          ]
        }
      ],
      "source": [
        "prompt = f\"\"\"\n",
        "Your task is to help a journalist summarize information from the article for publication.\n",
        "\n",
        "Write a title based on the information provided in the context delimited by triple backticks. \n",
        "The title should be short, catchy, and reflective of the article's narrative.\n",
        "\n",
        "After the title, generate five keywords from the context.\n",
        "\n",
        "After the keywords, include a table to organize the information. \n",
        "The table should have two columns. In the first column is the title.\n",
        "In the second column include the keywords as a list.\n",
        "\n",
        "Give the table the title 'Article Publishing Information'.\n",
        "\n",
        "Format everything as HTML that can be used in a website.\n",
        "Place the title in a <div> element.\n",
        "\n",
        "Context: ```{text}\n",
        "\n",
        "\"\"\" \n",
        "\n",
        "\n",
        "print(get_chat_completion(prompt))"
      ]
    },
    {
      "cell_type": "markdown",
      "metadata": {
        "nteract": {
          "transient": {
            "deleting": false
          }
        }
      },
      "source": [
        "#### Tactic 2: Instruct the model to work out its own solution\n",
        "\n",
        "There are two main methods we will demonstrate in this section to get the model to work through a problem instead of rushing to a conclusion, chain-of-thought and chaining. The strategies can lead to increased accuracy, detail, and the ability to work through complex challenges.\n",
        "\n",
        "\n",
        "2.1 - Chain-of-thought prompting\n",
        "- Ask the model to reason\n",
        "- One-shot example\n",
        "- Chatbot reasoning\n",
        "\n",
        "2.2 - Chaining\n",
        "\n",
        "Let's continue working with the Olympics dataset."
      ]
    },
    {
      "cell_type": "markdown",
      "metadata": {
        "nteract": {
          "transient": {
            "deleting": false
          }
        }
      },
      "source": [
        "#### 2.2.1 Chain-of-Thought Prompting\n",
        "\n",
        "Let's do a bit of math. GPT models occasionally don't do super well on solving direct math problems, so let's walk GPT through the problem.\n",
        "\n",
        "Let's break down tasks into smaller pieces.\n",
        "\n",
        "Read more about methods and whitepaper research here: https://github.com/openai/openai-cookbook/blob/main/techniques_to_improve_reliability.md"
      ]
    },
    {
      "cell_type": "markdown",
      "metadata": {
        "nteract": {
          "transient": {
            "deleting": false
          }
        }
      },
      "source": [
        "#### Tactic 1: You can start by specifically asking the model to simply think step-by-step."
      ]
    },
    {
      "cell_type": "code",
      "execution_count": 120,
      "metadata": {
        "gather": {
          "logged": 1685051978623
        },
        "jupyter": {
          "outputs_hidden": false,
          "source_hidden": false
        },
        "nteract": {
          "transient": {
            "deleting": false
          }
        }
      },
      "outputs": [
        {
          "name": "stdout",
          "output_type": "stream",
          "text": [
            "Step 1: Research the most decorated individual athlete in the Sydney Olympic games\n",
            "Step 2: Look for the athlete who won the maximum number of medals in the Sydney Olympic games\n",
            "Step 3: Check the official Olympic website and other reliable sources for the medal count\n",
            "Step 4: Compare the medal count of individual athletes to determine the most decorated athlete\n",
            "\n",
            "After conducting research, the most decorated individual athlete in the Sydney Olympic games was Ian Thorpe.\n",
            "\n",
            "ANSWER is: Ian Thorpe\n"
          ]
        }
      ],
      "source": [
        "\n",
        "text = f\"\"\"\n",
        "    The 2020 Summer Olympics, officially the Games of the XXXII Olympiad and also known as Tokyo 2020, was an international multi-sport event held from 23 July to 8 August 2021 in Tokyo, Japan, with some preliminary events that began on 21 July 2021. Tokyo was selected as the host city during the 125th IOC Session in Buenos Aires, Argentina, on 7 September 2013.Originally scheduled to take place from 24 July to 9 August 2020, the event was postponed to 2021 on 24 March 2020 due to the global COVID-19 pandemic, the first such instance in the history of the Olympic Games (previous games had been cancelled but not rescheduled). However, the event retained the Tokyo 2020 branding for marketing purposes. It was largely held behind closed doors with no public spectators permitted due to the declaration of a state of emergency in the Greater Tokyo Area in response to the pandemic, the first and only Olympic Games to be held without official spectators. The Games were the most expensive ever, with total spending of over $20 billion.The Games were the fourth Olympic Games to be held in Japan, following the 1964 Summer Olympics (Tokyo), 1972 Winter Olympics (Sapporo), and 1998 Winter Olympics (Nagano). Tokyo became the first city in Asia to hold the Summer Olympic Games twice. The 2020 Games were the second of three consecutive Olympics to be held in East Asia, following the 2018 Winter Olympics in Pyeongchang, South Korea and preceding the 2022 Winter Olympics in Beijing, China. Due to the one-year postponement, Tokyo 2020 was the first and only Olympic Games to have been held in an odd-numbered year and the first Summer Olympics since 1900 to be held in a non-leap year.\\nNew events were introduced in existing sports, including 3x3 basketball, freestyle BMX and mixed gender team events in a number of existing sports, as well as the return of madison cycling for men and an introduction of the same event for women. New IOC policies also allowed the host organizing committee to add new sports to the Olympic program for just one Games. The disciplines added by the Japanese Olympic Committee were baseball and softball, karate, sport climbing, surfing and skateboarding, the last four of which made their Olympic debuts, and the last three of which will remain on the Olympic program.The United States topped the medal count by both total golds (39) and total medals (113), with China finishing second by both respects (38 and 89). Host nation Japan finished third, setting a record for the most gold medals and total medals ever won by their delegation at an Olympic Games with 27 and 58. Great Britain finished fourth, with a total of 22 gold and 64 medals. The Russian delegation competing as the ROC finished fifth with 20 gold medals and third in the overall medal count, with 71 medals. Bermuda, the Philippines and Qatar won their first-ever Olympic gold medals. Burkina Faso, San Marino and Turkmenistan also won their first-ever Olympic medals.'\n",
        "\"\"\"\n",
        "\n",
        "# From Azure documentation\n",
        "prompt = \"Who was the most decorated (maximum medals) individual athlete in the Olympic games that were held at Sydney? Take a step-by-step approach in your response, cite sources and give reasoning before sharing final answer in the below format: ANSWER is: <name>\"\n",
        "print(get_chat_completion(prompt))\n",
        "\n",
        "\n"
      ]
    },
    {
      "cell_type": "code",
      "execution_count": 122,
      "metadata": {
        "jupyter": {
          "outputs_hidden": false,
          "source_hidden": false
        },
        "nteract": {
          "transient": {
            "deleting": false
          }
        }
      },
      "outputs": [
        {
          "name": "stdout",
          "output_type": "stream",
          "text": [
            "Step 1: Identify the top two countries who won the most gold medals in the 2020 Tokyo Olympics.\n",
            "- The United States won the most gold medals with 39.\n",
            "- China finished second with 38 gold medals.\n",
            "\n",
            "Step 2: Identify the time zones of the United States and China.\n",
            "- The United States has multiple time zones, but for the purpose of this calculation, I will use the Eastern Time Zone (UTC-4) as it is the most populous.\n",
            "- China has a single time zone, China Standard Time (UTC+8).\n",
            "\n",
            "Step 3: Calculate the time zone difference between the United States and China.\n",
            "- The time zone difference between Eastern Time (UTC-4) and China Standard Time (UTC+8) is 12 hours.\n",
            "\n",
            "Step 4: Conclusion\n",
            "- The largest time zone difference between the top two countries who won the most gold medals in the 2020 Tokyo Olympics is 12 hours, between the United States and China.\n"
          ]
        }
      ],
      "source": [
        "# Another example\n",
        "prompt = f\"\"\"\n",
        "What is the largest time zone difference is between the top two countries who \n",
        "won the most gold medals in the 2020 Tokyo olympics?\n",
        "\n",
        "Use the context below and think aloud as you solve the problem, step-by-step.\n",
        "\n",
        "Context: {text}\n",
        "\"\"\"\n",
        "print(get_chat_completion(prompt))"
      ]
    },
    {
      "cell_type": "markdown",
      "metadata": {
        "nteract": {
          "transient": {
            "deleting": false
          }
        }
      },
      "source": [
        "#### Tactic 2: One-shot example \n",
        "Another common tactic is to provide one example of a query and an ideal response. The model will learn from that example and apply the patterns to a new question."
      ]
    },
    {
      "cell_type": "code",
      "execution_count": 123,
      "metadata": {
        "gather": {
          "logged": 1685053144682
        },
        "jupyter": {
          "outputs_hidden": false,
          "source_hidden": false
        },
        "nteract": {
          "transient": {
            "deleting": false
          }
        }
      },
      "outputs": [
        {
          "name": "stdout",
          "output_type": "stream",
          "text": [
            "The United States has 113 - 39 = 74 silver and bronze medals.\n",
            "Great Britain has 64 - 22 = 42 silver and bronze medals.\n",
            "So, the United States has 74 - 42 = 32 more silver and bronze medals than Great Britain.\n"
          ]
        }
      ],
      "source": [
        "# Notice how this response may not be ideal, or the most accurate.\n",
        "prompt = f\"\"\"\n",
        "    The United States has 113 total medals, 39 of which are gold medals. \n",
        "    \n",
        "    Great Britain has 64 medals and 22 gold medals. \n",
        "    \n",
        "    How many more silver and bronze medals does the United States have over Great Britain?\n",
        "\"\"\"\n",
        "\n",
        "print(get_chat_completion(prompt))"
      ]
    },
    {
      "cell_type": "code",
      "execution_count": 124,
      "metadata": {
        "jupyter": {
          "outputs_hidden": false,
          "source_hidden": false
        },
        "nteract": {
          "transient": {
            "deleting": false
          }
        }
      },
      "outputs": [
        {
          "name": "stdout",
          "output_type": "stream",
          "text": [
            "[Step 1] - There are three types of medals: gold, silver, and bronze\n",
            "[Step 2] - We know the gold and total counts of medals, so the number of silver and bronze medals is the difference between the gold (38) and total (89) counts. \n",
            "            89-38=51, so there are 51 silver and bronze medals combined. The answer is 51.\n"
          ]
        }
      ],
      "source": [
        "# Give the model a one-shot example to solve the question more thoroughly\n",
        "\n",
        "prompt = f\"\"\"\n",
        "Question: The United States has 113 total medals, 39 of which are gold medals. How many medals are silver or bronze?\n",
        "Answer:\n",
        "[Step 1] - There are three types of medals: gold, silver, and bronze\n",
        "[Step 2] - We know the gold and total counts of medals, so the number of silver and bronze medals is the difference between the gold (39) and total (113) counts. \n",
        "            113-39=74, so there are 74 silver and bronze medals combined. The answer is 74.\n",
        "\n",
        "===\n",
        "\n",
        "Answer the following question using similar steps above.\n",
        "\n",
        "Question: China has 89 total medals, 38 of which are gold medals. How many silver and bronze medals do they have?\n",
        "Answer:\n",
        "\"\"\"\n",
        "\n",
        "print(get_chat_completion(prompt))"
      ]
    },
    {
      "cell_type": "markdown",
      "metadata": {
        "nteract": {
          "transient": {
            "deleting": false
          }
        }
      },
      "source": [
        "#### Tactic 3: Chatbot chain-of-thought reasoning\n",
        "You can build in logic using variables so the chatbot can dynamically demonstrate specific ways of thinking about a problem.\n",
        "\n",
        "**The input place is at the top of the screen. You should see a popup. Type 'quit' if you want to exit.**"
      ]
    },
    {
      "cell_type": "code",
      "execution_count": 126,
      "metadata": {
        "jupyter": {
          "outputs_hidden": false,
          "source_hidden": false
        },
        "nteract": {
          "transient": {
            "deleting": false
          }
        }
      },
      "outputs": [
        {
          "ename": "KeyboardInterrupt",
          "evalue": "",
          "output_type": "error",
          "traceback": [
            "\u001b[0;31m---------------------------------------------------------------------------\u001b[0m",
            "\u001b[0;31mKeyboardInterrupt\u001b[0m                         Traceback (most recent call last)",
            "\u001b[1;32m/workspaces/AOAI-Fundamentals-WTH/notebooks/CH-01-PromptEngineering.ipynb Cell 83\u001b[0m line \u001b[0;36m6\n\u001b[1;32m      <a href='vscode-notebook-cell://codespaces%2Bfluffy-memory-qpr74wwxjx43674w/workspaces/AOAI-Fundamentals-WTH/notebooks/CH-01-PromptEngineering.ipynb#Y145sdnNjb2RlLXJlbW90ZQ%3D%3D?line=0'>1</a>\u001b[0m \u001b[39m# Ask the bot to help you make a decision such as deciding whether to take a job or choose between restaurants.\u001b[39;00m\n\u001b[1;32m      <a href='vscode-notebook-cell://codespaces%2Bfluffy-memory-qpr74wwxjx43674w/workspaces/AOAI-Fundamentals-WTH/notebooks/CH-01-PromptEngineering.ipynb#Y145sdnNjb2RlLXJlbW90ZQ%3D%3D?line=1'>2</a>\u001b[0m \u001b[39m# If the model does not immediately respond to your query, wait 1-5 seconds and retype it.\u001b[39;00m\n\u001b[1;32m      <a href='vscode-notebook-cell://codespaces%2Bfluffy-memory-qpr74wwxjx43674w/workspaces/AOAI-Fundamentals-WTH/notebooks/CH-01-PromptEngineering.ipynb#Y145sdnNjb2RlLXJlbW90ZQ%3D%3D?line=2'>3</a>\u001b[0m \u001b[39m# If it is not allowing you to give an input, restart the kernel in the navigation bar.\u001b[39;00m\n\u001b[1;32m      <a href='vscode-notebook-cell://codespaces%2Bfluffy-memory-qpr74wwxjx43674w/workspaces/AOAI-Fundamentals-WTH/notebooks/CH-01-PromptEngineering.ipynb#Y145sdnNjb2RlLXJlbW90ZQ%3D%3D?line=3'>4</a>\u001b[0m \u001b[39m# Type \"quit\" to end the session\u001b[39;00m\n\u001b[0;32m----> <a href='vscode-notebook-cell://codespaces%2Bfluffy-memory-qpr74wwxjx43674w/workspaces/AOAI-Fundamentals-WTH/notebooks/CH-01-PromptEngineering.ipynb#Y145sdnNjb2RlLXJlbW90ZQ%3D%3D?line=5'>6</a>\u001b[0m context \u001b[39m=\u001b[39m \u001b[39m'''\u001b[39m\n\u001b[1;32m      <a href='vscode-notebook-cell://codespaces%2Bfluffy-memory-qpr74wwxjx43674w/workspaces/AOAI-Fundamentals-WTH/notebooks/CH-01-PromptEngineering.ipynb#Y145sdnNjb2RlLXJlbW90ZQ%3D%3D?line=6'>7</a>\u001b[0m \u001b[39m        You are a decision bot. Your job is to help come to decision by asking a series of questions one at a time and coming to a reasonable decision based on the information provided.\u001b[39m\n\u001b[1;32m      <a href='vscode-notebook-cell://codespaces%2Bfluffy-memory-qpr74wwxjx43674w/workspaces/AOAI-Fundamentals-WTH/notebooks/CH-01-PromptEngineering.ipynb#Y145sdnNjb2RlLXJlbW90ZQ%3D%3D?line=7'>8</a>\u001b[0m \n\u001b[1;32m      <a href='vscode-notebook-cell://codespaces%2Bfluffy-memory-qpr74wwxjx43674w/workspaces/AOAI-Fundamentals-WTH/notebooks/CH-01-PromptEngineering.ipynb#Y145sdnNjb2RlLXJlbW90ZQ%3D%3D?line=8'>9</a>\u001b[0m \u001b[39m        You will use the following format to help create the series of questions.\u001b[39m\n\u001b[1;32m     <a href='vscode-notebook-cell://codespaces%2Bfluffy-memory-qpr74wwxjx43674w/workspaces/AOAI-Fundamentals-WTH/notebooks/CH-01-PromptEngineering.ipynb#Y145sdnNjb2RlLXJlbW90ZQ%3D%3D?line=9'>10</a>\u001b[0m \n\u001b[1;32m     <a href='vscode-notebook-cell://codespaces%2Bfluffy-memory-qpr74wwxjx43674w/workspaces/AOAI-Fundamentals-WTH/notebooks/CH-01-PromptEngineering.ipynb#Y145sdnNjb2RlLXJlbW90ZQ%3D%3D?line=10'>11</a>\u001b[0m \u001b[39m        Template: \u001b[39m\n\u001b[1;32m     <a href='vscode-notebook-cell://codespaces%2Bfluffy-memory-qpr74wwxjx43674w/workspaces/AOAI-Fundamentals-WTH/notebooks/CH-01-PromptEngineering.ipynb#Y145sdnNjb2RlLXJlbW90ZQ%3D%3D?line=11'>12</a>\u001b[0m \u001b[39m        [Problem/Scenario/Question]: [Provide a brief description of the problem, scenario, or question.]\u001b[39m\n\u001b[1;32m     <a href='vscode-notebook-cell://codespaces%2Bfluffy-memory-qpr74wwxjx43674w/workspaces/AOAI-Fundamentals-WTH/notebooks/CH-01-PromptEngineering.ipynb#Y145sdnNjb2RlLXJlbW90ZQ%3D%3D?line=12'>13</a>\u001b[0m \n\u001b[1;32m     <a href='vscode-notebook-cell://codespaces%2Bfluffy-memory-qpr74wwxjx43674w/workspaces/AOAI-Fundamentals-WTH/notebooks/CH-01-PromptEngineering.ipynb#Y145sdnNjb2RlLXJlbW90ZQ%3D%3D?line=13'>14</a>\u001b[0m \u001b[39m        Chain of thought:\u001b[39m\n\u001b[1;32m     <a href='vscode-notebook-cell://codespaces%2Bfluffy-memory-qpr74wwxjx43674w/workspaces/AOAI-Fundamentals-WTH/notebooks/CH-01-PromptEngineering.ipynb#Y145sdnNjb2RlLXJlbW90ZQ%3D%3D?line=14'>15</a>\u001b[0m \n\u001b[1;32m     <a href='vscode-notebook-cell://codespaces%2Bfluffy-memory-qpr74wwxjx43674w/workspaces/AOAI-Fundamentals-WTH/notebooks/CH-01-PromptEngineering.ipynb#Y145sdnNjb2RlLXJlbW90ZQ%3D%3D?line=15'>16</a>\u001b[0m \u001b[39m        [Step 1]: Identify the [key element/variable] in the [problem/scenario/question].\u001b[39m\n\u001b[1;32m     <a href='vscode-notebook-cell://codespaces%2Bfluffy-memory-qpr74wwxjx43674w/workspaces/AOAI-Fundamentals-WTH/notebooks/CH-01-PromptEngineering.ipynb#Y145sdnNjb2RlLXJlbW90ZQ%3D%3D?line=16'>17</a>\u001b[0m \u001b[39m        [Step 2]: Understand the [relationship/connection] between [element A] and [element B].\u001b[39m\n\u001b[1;32m     <a href='vscode-notebook-cell://codespaces%2Bfluffy-memory-qpr74wwxjx43674w/workspaces/AOAI-Fundamentals-WTH/notebooks/CH-01-PromptEngineering.ipynb#Y145sdnNjb2RlLXJlbW90ZQ%3D%3D?line=17'>18</a>\u001b[0m \u001b[39m        [Step 3]: [Analyze/Evaluate/Consider] the [context/implication] of the [relationship/connection] between [element A] and [element B].\u001b[39m\n\u001b[1;32m     <a href='vscode-notebook-cell://codespaces%2Bfluffy-memory-qpr74wwxjx43674w/workspaces/AOAI-Fundamentals-WTH/notebooks/CH-01-PromptEngineering.ipynb#Y145sdnNjb2RlLXJlbW90ZQ%3D%3D?line=18'>19</a>\u001b[0m \u001b[39m        [Step 4]: [Conclude/Decide/Determine] the [outcome/solution] based on the [analysis/evaluation/consideration] of [element A], [element B], and their [relationship/connection].\u001b[39m\n\u001b[1;32m     <a href='vscode-notebook-cell://codespaces%2Bfluffy-memory-qpr74wwxjx43674w/workspaces/AOAI-Fundamentals-WTH/notebooks/CH-01-PromptEngineering.ipynb#Y145sdnNjb2RlLXJlbW90ZQ%3D%3D?line=19'>20</a>\u001b[0m \u001b[39m        [Answer/Conclusion/Recommendation]: [Provide a coherent and logical response based on the chain of thought.]\u001b[39m\n\u001b[1;32m     <a href='vscode-notebook-cell://codespaces%2Bfluffy-memory-qpr74wwxjx43674w/workspaces/AOAI-Fundamentals-WTH/notebooks/CH-01-PromptEngineering.ipynb#Y145sdnNjb2RlLXJlbW90ZQ%3D%3D?line=20'>21</a>\u001b[0m \n\u001b[1;32m     <a href='vscode-notebook-cell://codespaces%2Bfluffy-memory-qpr74wwxjx43674w/workspaces/AOAI-Fundamentals-WTH/notebooks/CH-01-PromptEngineering.ipynb#Y145sdnNjb2RlLXJlbW90ZQ%3D%3D?line=21'>22</a>\u001b[0m \u001b[39m        You will guide the user though a series of questions one at a time. The first question is broad, and they subsequent questions become more specific. \u001b[39m\n\u001b[1;32m     <a href='vscode-notebook-cell://codespaces%2Bfluffy-memory-qpr74wwxjx43674w/workspaces/AOAI-Fundamentals-WTH/notebooks/CH-01-PromptEngineering.ipynb#Y145sdnNjb2RlLXJlbW90ZQ%3D%3D?line=22'>23</a>\u001b[0m \n\u001b[1;32m     <a href='vscode-notebook-cell://codespaces%2Bfluffy-memory-qpr74wwxjx43674w/workspaces/AOAI-Fundamentals-WTH/notebooks/CH-01-PromptEngineering.ipynb#Y145sdnNjb2RlLXJlbW90ZQ%3D%3D?line=23'>24</a>\u001b[0m \u001b[39m        Begin by introducing yourself and asking the first question (step 1) only and nothing else, in simple and easy way.\u001b[39m\n\u001b[1;32m     <a href='vscode-notebook-cell://codespaces%2Bfluffy-memory-qpr74wwxjx43674w/workspaces/AOAI-Fundamentals-WTH/notebooks/CH-01-PromptEngineering.ipynb#Y145sdnNjb2RlLXJlbW90ZQ%3D%3D?line=24'>25</a>\u001b[0m \u001b[39m        \u001b[39m\u001b[39m'''\u001b[39m\n\u001b[1;32m     <a href='vscode-notebook-cell://codespaces%2Bfluffy-memory-qpr74wwxjx43674w/workspaces/AOAI-Fundamentals-WTH/notebooks/CH-01-PromptEngineering.ipynb#Y145sdnNjb2RlLXJlbW90ZQ%3D%3D?line=26'>27</a>\u001b[0m conversation\u001b[39m=\u001b[39m[{\u001b[39m\"\u001b[39m\u001b[39mrole\u001b[39m\u001b[39m\"\u001b[39m: \u001b[39m\"\u001b[39m\u001b[39msystem\u001b[39m\u001b[39m\"\u001b[39m, \u001b[39m\"\u001b[39m\u001b[39mcontent\u001b[39m\u001b[39m\"\u001b[39m: context}]\n\u001b[1;32m     <a href='vscode-notebook-cell://codespaces%2Bfluffy-memory-qpr74wwxjx43674w/workspaces/AOAI-Fundamentals-WTH/notebooks/CH-01-PromptEngineering.ipynb#Y145sdnNjb2RlLXJlbW90ZQ%3D%3D?line=28'>29</a>\u001b[0m \u001b[39mwhile\u001b[39;00m(\u001b[39mTrue\u001b[39;00m):\n",
            "\u001b[1;32m/workspaces/AOAI-Fundamentals-WTH/notebooks/CH-01-PromptEngineering.ipynb Cell 83\u001b[0m line \u001b[0;36m6\n\u001b[1;32m      <a href='vscode-notebook-cell://codespaces%2Bfluffy-memory-qpr74wwxjx43674w/workspaces/AOAI-Fundamentals-WTH/notebooks/CH-01-PromptEngineering.ipynb#Y145sdnNjb2RlLXJlbW90ZQ%3D%3D?line=0'>1</a>\u001b[0m \u001b[39m# Ask the bot to help you make a decision such as deciding whether to take a job or choose between restaurants.\u001b[39;00m\n\u001b[1;32m      <a href='vscode-notebook-cell://codespaces%2Bfluffy-memory-qpr74wwxjx43674w/workspaces/AOAI-Fundamentals-WTH/notebooks/CH-01-PromptEngineering.ipynb#Y145sdnNjb2RlLXJlbW90ZQ%3D%3D?line=1'>2</a>\u001b[0m \u001b[39m# If the model does not immediately respond to your query, wait 1-5 seconds and retype it.\u001b[39;00m\n\u001b[1;32m      <a href='vscode-notebook-cell://codespaces%2Bfluffy-memory-qpr74wwxjx43674w/workspaces/AOAI-Fundamentals-WTH/notebooks/CH-01-PromptEngineering.ipynb#Y145sdnNjb2RlLXJlbW90ZQ%3D%3D?line=2'>3</a>\u001b[0m \u001b[39m# If it is not allowing you to give an input, restart the kernel in the navigation bar.\u001b[39;00m\n\u001b[1;32m      <a href='vscode-notebook-cell://codespaces%2Bfluffy-memory-qpr74wwxjx43674w/workspaces/AOAI-Fundamentals-WTH/notebooks/CH-01-PromptEngineering.ipynb#Y145sdnNjb2RlLXJlbW90ZQ%3D%3D?line=3'>4</a>\u001b[0m \u001b[39m# Type \"quit\" to end the session\u001b[39;00m\n\u001b[0;32m----> <a href='vscode-notebook-cell://codespaces%2Bfluffy-memory-qpr74wwxjx43674w/workspaces/AOAI-Fundamentals-WTH/notebooks/CH-01-PromptEngineering.ipynb#Y145sdnNjb2RlLXJlbW90ZQ%3D%3D?line=5'>6</a>\u001b[0m context \u001b[39m=\u001b[39m \u001b[39m'''\u001b[39m\n\u001b[1;32m      <a href='vscode-notebook-cell://codespaces%2Bfluffy-memory-qpr74wwxjx43674w/workspaces/AOAI-Fundamentals-WTH/notebooks/CH-01-PromptEngineering.ipynb#Y145sdnNjb2RlLXJlbW90ZQ%3D%3D?line=6'>7</a>\u001b[0m \u001b[39m        You are a decision bot. Your job is to help come to decision by asking a series of questions one at a time and coming to a reasonable decision based on the information provided.\u001b[39m\n\u001b[1;32m      <a href='vscode-notebook-cell://codespaces%2Bfluffy-memory-qpr74wwxjx43674w/workspaces/AOAI-Fundamentals-WTH/notebooks/CH-01-PromptEngineering.ipynb#Y145sdnNjb2RlLXJlbW90ZQ%3D%3D?line=7'>8</a>\u001b[0m \n\u001b[1;32m      <a href='vscode-notebook-cell://codespaces%2Bfluffy-memory-qpr74wwxjx43674w/workspaces/AOAI-Fundamentals-WTH/notebooks/CH-01-PromptEngineering.ipynb#Y145sdnNjb2RlLXJlbW90ZQ%3D%3D?line=8'>9</a>\u001b[0m \u001b[39m        You will use the following format to help create the series of questions.\u001b[39m\n\u001b[1;32m     <a href='vscode-notebook-cell://codespaces%2Bfluffy-memory-qpr74wwxjx43674w/workspaces/AOAI-Fundamentals-WTH/notebooks/CH-01-PromptEngineering.ipynb#Y145sdnNjb2RlLXJlbW90ZQ%3D%3D?line=9'>10</a>\u001b[0m \n\u001b[1;32m     <a href='vscode-notebook-cell://codespaces%2Bfluffy-memory-qpr74wwxjx43674w/workspaces/AOAI-Fundamentals-WTH/notebooks/CH-01-PromptEngineering.ipynb#Y145sdnNjb2RlLXJlbW90ZQ%3D%3D?line=10'>11</a>\u001b[0m \u001b[39m        Template: \u001b[39m\n\u001b[1;32m     <a href='vscode-notebook-cell://codespaces%2Bfluffy-memory-qpr74wwxjx43674w/workspaces/AOAI-Fundamentals-WTH/notebooks/CH-01-PromptEngineering.ipynb#Y145sdnNjb2RlLXJlbW90ZQ%3D%3D?line=11'>12</a>\u001b[0m \u001b[39m        [Problem/Scenario/Question]: [Provide a brief description of the problem, scenario, or question.]\u001b[39m\n\u001b[1;32m     <a href='vscode-notebook-cell://codespaces%2Bfluffy-memory-qpr74wwxjx43674w/workspaces/AOAI-Fundamentals-WTH/notebooks/CH-01-PromptEngineering.ipynb#Y145sdnNjb2RlLXJlbW90ZQ%3D%3D?line=12'>13</a>\u001b[0m \n\u001b[1;32m     <a href='vscode-notebook-cell://codespaces%2Bfluffy-memory-qpr74wwxjx43674w/workspaces/AOAI-Fundamentals-WTH/notebooks/CH-01-PromptEngineering.ipynb#Y145sdnNjb2RlLXJlbW90ZQ%3D%3D?line=13'>14</a>\u001b[0m \u001b[39m        Chain of thought:\u001b[39m\n\u001b[1;32m     <a href='vscode-notebook-cell://codespaces%2Bfluffy-memory-qpr74wwxjx43674w/workspaces/AOAI-Fundamentals-WTH/notebooks/CH-01-PromptEngineering.ipynb#Y145sdnNjb2RlLXJlbW90ZQ%3D%3D?line=14'>15</a>\u001b[0m \n\u001b[1;32m     <a href='vscode-notebook-cell://codespaces%2Bfluffy-memory-qpr74wwxjx43674w/workspaces/AOAI-Fundamentals-WTH/notebooks/CH-01-PromptEngineering.ipynb#Y145sdnNjb2RlLXJlbW90ZQ%3D%3D?line=15'>16</a>\u001b[0m \u001b[39m        [Step 1]: Identify the [key element/variable] in the [problem/scenario/question].\u001b[39m\n\u001b[1;32m     <a href='vscode-notebook-cell://codespaces%2Bfluffy-memory-qpr74wwxjx43674w/workspaces/AOAI-Fundamentals-WTH/notebooks/CH-01-PromptEngineering.ipynb#Y145sdnNjb2RlLXJlbW90ZQ%3D%3D?line=16'>17</a>\u001b[0m \u001b[39m        [Step 2]: Understand the [relationship/connection] between [element A] and [element B].\u001b[39m\n\u001b[1;32m     <a href='vscode-notebook-cell://codespaces%2Bfluffy-memory-qpr74wwxjx43674w/workspaces/AOAI-Fundamentals-WTH/notebooks/CH-01-PromptEngineering.ipynb#Y145sdnNjb2RlLXJlbW90ZQ%3D%3D?line=17'>18</a>\u001b[0m \u001b[39m        [Step 3]: [Analyze/Evaluate/Consider] the [context/implication] of the [relationship/connection] between [element A] and [element B].\u001b[39m\n\u001b[1;32m     <a href='vscode-notebook-cell://codespaces%2Bfluffy-memory-qpr74wwxjx43674w/workspaces/AOAI-Fundamentals-WTH/notebooks/CH-01-PromptEngineering.ipynb#Y145sdnNjb2RlLXJlbW90ZQ%3D%3D?line=18'>19</a>\u001b[0m \u001b[39m        [Step 4]: [Conclude/Decide/Determine] the [outcome/solution] based on the [analysis/evaluation/consideration] of [element A], [element B], and their [relationship/connection].\u001b[39m\n\u001b[1;32m     <a href='vscode-notebook-cell://codespaces%2Bfluffy-memory-qpr74wwxjx43674w/workspaces/AOAI-Fundamentals-WTH/notebooks/CH-01-PromptEngineering.ipynb#Y145sdnNjb2RlLXJlbW90ZQ%3D%3D?line=19'>20</a>\u001b[0m \u001b[39m        [Answer/Conclusion/Recommendation]: [Provide a coherent and logical response based on the chain of thought.]\u001b[39m\n\u001b[1;32m     <a href='vscode-notebook-cell://codespaces%2Bfluffy-memory-qpr74wwxjx43674w/workspaces/AOAI-Fundamentals-WTH/notebooks/CH-01-PromptEngineering.ipynb#Y145sdnNjb2RlLXJlbW90ZQ%3D%3D?line=20'>21</a>\u001b[0m \n\u001b[1;32m     <a href='vscode-notebook-cell://codespaces%2Bfluffy-memory-qpr74wwxjx43674w/workspaces/AOAI-Fundamentals-WTH/notebooks/CH-01-PromptEngineering.ipynb#Y145sdnNjb2RlLXJlbW90ZQ%3D%3D?line=21'>22</a>\u001b[0m \u001b[39m        You will guide the user though a series of questions one at a time. The first question is broad, and they subsequent questions become more specific. \u001b[39m\n\u001b[1;32m     <a href='vscode-notebook-cell://codespaces%2Bfluffy-memory-qpr74wwxjx43674w/workspaces/AOAI-Fundamentals-WTH/notebooks/CH-01-PromptEngineering.ipynb#Y145sdnNjb2RlLXJlbW90ZQ%3D%3D?line=22'>23</a>\u001b[0m \n\u001b[1;32m     <a href='vscode-notebook-cell://codespaces%2Bfluffy-memory-qpr74wwxjx43674w/workspaces/AOAI-Fundamentals-WTH/notebooks/CH-01-PromptEngineering.ipynb#Y145sdnNjb2RlLXJlbW90ZQ%3D%3D?line=23'>24</a>\u001b[0m \u001b[39m        Begin by introducing yourself and asking the first question (step 1) only and nothing else, in simple and easy way.\u001b[39m\n\u001b[1;32m     <a href='vscode-notebook-cell://codespaces%2Bfluffy-memory-qpr74wwxjx43674w/workspaces/AOAI-Fundamentals-WTH/notebooks/CH-01-PromptEngineering.ipynb#Y145sdnNjb2RlLXJlbW90ZQ%3D%3D?line=24'>25</a>\u001b[0m \u001b[39m        \u001b[39m\u001b[39m'''\u001b[39m\n\u001b[1;32m     <a href='vscode-notebook-cell://codespaces%2Bfluffy-memory-qpr74wwxjx43674w/workspaces/AOAI-Fundamentals-WTH/notebooks/CH-01-PromptEngineering.ipynb#Y145sdnNjb2RlLXJlbW90ZQ%3D%3D?line=26'>27</a>\u001b[0m conversation\u001b[39m=\u001b[39m[{\u001b[39m\"\u001b[39m\u001b[39mrole\u001b[39m\u001b[39m\"\u001b[39m: \u001b[39m\"\u001b[39m\u001b[39msystem\u001b[39m\u001b[39m\"\u001b[39m, \u001b[39m\"\u001b[39m\u001b[39mcontent\u001b[39m\u001b[39m\"\u001b[39m: context}]\n\u001b[1;32m     <a href='vscode-notebook-cell://codespaces%2Bfluffy-memory-qpr74wwxjx43674w/workspaces/AOAI-Fundamentals-WTH/notebooks/CH-01-PromptEngineering.ipynb#Y145sdnNjb2RlLXJlbW90ZQ%3D%3D?line=28'>29</a>\u001b[0m \u001b[39mwhile\u001b[39;00m(\u001b[39mTrue\u001b[39;00m):\n",
            "File \u001b[0;32m_pydevd_bundle/pydevd_cython.pyx:1457\u001b[0m, in \u001b[0;36m_pydevd_bundle.pydevd_cython.SafeCallWrapper.__call__\u001b[0;34m()\u001b[0m\n",
            "File \u001b[0;32m_pydevd_bundle/pydevd_cython.pyx:701\u001b[0m, in \u001b[0;36m_pydevd_bundle.pydevd_cython.PyDBFrame.trace_dispatch\u001b[0;34m()\u001b[0m\n",
            "File \u001b[0;32m_pydevd_bundle/pydevd_cython.pyx:1152\u001b[0m, in \u001b[0;36m_pydevd_bundle.pydevd_cython.PyDBFrame.trace_dispatch\u001b[0;34m()\u001b[0m\n",
            "File \u001b[0;32m_pydevd_bundle/pydevd_cython.pyx:1135\u001b[0m, in \u001b[0;36m_pydevd_bundle.pydevd_cython.PyDBFrame.trace_dispatch\u001b[0;34m()\u001b[0m\n",
            "File \u001b[0;32m_pydevd_bundle/pydevd_cython.pyx:312\u001b[0m, in \u001b[0;36m_pydevd_bundle.pydevd_cython.PyDBFrame.do_wait_suspend\u001b[0;34m()\u001b[0m\n",
            "File \u001b[0;32m~/.local/lib/python3.10/site-packages/debugpy/_vendored/pydevd/pydevd.py:2070\u001b[0m, in \u001b[0;36mPyDB.do_wait_suspend\u001b[0;34m(self, thread, frame, event, arg, exception_type)\u001b[0m\n\u001b[1;32m   2067\u001b[0m             from_this_thread\u001b[39m.\u001b[39mappend(frame_custom_thread_id)\n\u001b[1;32m   2069\u001b[0m     \u001b[39mwith\u001b[39;00m \u001b[39mself\u001b[39m\u001b[39m.\u001b[39m_threads_suspended_single_notification\u001b[39m.\u001b[39mnotify_thread_suspended(thread_id, thread, stop_reason):\n\u001b[0;32m-> 2070\u001b[0m         keep_suspended \u001b[39m=\u001b[39m \u001b[39mself\u001b[39;49m\u001b[39m.\u001b[39;49m_do_wait_suspend(thread, frame, event, arg, suspend_type, from_this_thread, frames_tracker)\n\u001b[1;32m   2072\u001b[0m frames_list \u001b[39m=\u001b[39m \u001b[39mNone\u001b[39;00m\n\u001b[1;32m   2074\u001b[0m \u001b[39mif\u001b[39;00m keep_suspended:\n\u001b[1;32m   2075\u001b[0m     \u001b[39m# This means that we should pause again after a set next statement.\u001b[39;00m\n",
            "File \u001b[0;32m~/.local/lib/python3.10/site-packages/debugpy/_vendored/pydevd/pydevd.py:2106\u001b[0m, in \u001b[0;36mPyDB._do_wait_suspend\u001b[0;34m(self, thread, frame, event, arg, suspend_type, from_this_thread, frames_tracker)\u001b[0m\n\u001b[1;32m   2103\u001b[0m         \u001b[39mself\u001b[39m\u001b[39m.\u001b[39m_call_input_hook()\n\u001b[1;32m   2105\u001b[0m     \u001b[39mself\u001b[39m\u001b[39m.\u001b[39mprocess_internal_commands()\n\u001b[0;32m-> 2106\u001b[0m     time\u001b[39m.\u001b[39;49msleep(\u001b[39m0.01\u001b[39;49m)\n\u001b[1;32m   2108\u001b[0m \u001b[39mself\u001b[39m\u001b[39m.\u001b[39mcancel_async_evaluation(get_current_thread_id(thread), \u001b[39mstr\u001b[39m(\u001b[39mid\u001b[39m(frame)))\n\u001b[1;32m   2110\u001b[0m \u001b[39m# process any stepping instructions\u001b[39;00m\n",
            "\u001b[0;31mKeyboardInterrupt\u001b[0m: "
          ]
        }
      ],
      "source": [
        "# Ask the bot to help you make a decision such as deciding whether to take a job or choose between restaurants.\n",
        "# If the model does not immediately respond to your query, wait 1-5 seconds and retype it.\n",
        "# If it is not allowing you to give an input, restart the kernel in the navigation bar.\n",
        "# Type \"quit\" to end the session\n",
        "\n",
        "context = '''\n",
        "        You are a decision bot. Your job is to help come to decision by asking a series of questions one at a time and coming to a reasonable decision based on the information provided.\n",
        "\n",
        "        You will use the following format to help create the series of questions.\n",
        "\n",
        "        Template: \n",
        "        [Problem/Scenario/Question]: [Provide a brief description of the problem, scenario, or question.]\n",
        "\n",
        "        Chain of thought:\n",
        "\n",
        "        [Step 1]: Identify the [key element/variable] in the [problem/scenario/question].\n",
        "        [Step 2]: Understand the [relationship/connection] between [element A] and [element B].\n",
        "        [Step 3]: [Analyze/Evaluate/Consider] the [context/implication] of the [relationship/connection] between [element A] and [element B].\n",
        "        [Step 4]: [Conclude/Decide/Determine] the [outcome/solution] based on the [analysis/evaluation/consideration] of [element A], [element B], and their [relationship/connection].\n",
        "        [Answer/Conclusion/Recommendation]: [Provide a coherent and logical response based on the chain of thought.]\n",
        "\n",
        "        You will guide the user though a series of questions one at a time. The first question is broad, and they subsequent questions become more specific. \n",
        "\n",
        "        Begin by introducing yourself and asking the first question (step 1) only and nothing else, in simple and easy way.\n",
        "        '''\n",
        "\n",
        "conversation=[{\"role\": \"system\", \"content\": context}]\n",
        "\n",
        "while(True):\n",
        "    print(len(conversation))\n",
        "    if len(conversation) == 1:\n",
        "        response = get_completion_from_messages(conversation)\n",
        "        conversation.append({\"role\": \"assistant\", \"content\": response})\n",
        "        print(\"\\n\" + response + \"\\n\")\n",
        "    \n",
        "    user_input = input('Enter your response: ')\n",
        "    if user_input.lower() == \"quit\":\n",
        "        break \n",
        "    conversation.append({\"role\": \"user\", \"content\": user_input})\n",
        "    \n",
        "    response = get_completion_from_messages(conversation)\n",
        "    conversation.append({\"role\": \"assistant\", \"content\": response})\n",
        "    print(\"\\n\" + response + \"\\n\")\n"
      ]
    },
    {
      "cell_type": "markdown",
      "metadata": {
        "nteract": {
          "transient": {
            "deleting": false
          }
        }
      },
      "source": [
        "#### 2.2.2 - Chaining\n",
        "Similar to some earlier examples, you can use model outputs from previous queries into other queries. We will show you later in the Hack how to do this at scale."
      ]
    },
    {
      "cell_type": "code",
      "execution_count": 127,
      "metadata": {
        "gather": {
          "logged": 1685051679330
        },
        "jupyter": {
          "outputs_hidden": false,
          "source_hidden": false
        },
        "nteract": {
          "transient": {
            "deleting": false
          }
        }
      },
      "outputs": [
        {
          "name": "stdout",
          "output_type": "stream",
          "text": [
            "The 2020 Tokyo Olympics have come to a close, and as always, there are winners and losers based on the medal count. The United States emerged as the clear winner, taking home a total of 113 medals, including 39 golds. China closely followed with 89 total medals, 38 of which were gold. Japan also had a strong showing, with 27 gold medals and a total of 58 medals overall.\n",
            "\n",
            "On the other hand, some countries did not fare as well in the medal count. Great Britain secured 22 gold medals and 64 total medals, while the Russian Olympic Committee (ROC) earned 20 golds and 71 total medals. Bermuda, while only winning one gold medal, still managed to make it onto the medal count.\n",
            "\n",
            "Overall, the 2020 Olympics showcased the incredible talent and dedication of athletes from around the world. While some countries may have come out on top in terms of medals, every athlete who competed in the games deserves recognition for\n",
            "\"2020 Tokyo Olympics Medal Count\"\n"
          ]
        }
      ],
      "source": [
        "# Extract medal counts for each country from the news article\n",
        "# Write an article about the summarized information\n",
        "# Provide a title for the summary\n",
        "\n",
        "text = f\"\"\"\n",
        "    The 2020 Summer Olympics, officially the Games of the XXXII Olympiad and also known as Tokyo 2020, was an international multi-sport event held from 23 July to 8 August 2021 in Tokyo, Japan, with some preliminary events that began on 21 July 2021. Tokyo was selected as the host city during the 125th IOC Session in Buenos Aires, Argentina, on 7 September 2013.Originally scheduled to take place from 24 July to 9 August 2020, the event was postponed to 2021 on 24 March 2020 due to the global COVID-19 pandemic, the first such instance in the history of the Olympic Games (previous games had been cancelled but not rescheduled). However, the event retained the Tokyo 2020 branding for marketing purposes. It was largely held behind closed doors with no public spectators permitted due to the declaration of a state of emergency in the Greater Tokyo Area in response to the pandemic, the first and only Olympic Games to be held without official spectators. The Games were the most expensive ever, with total spending of over $20 billion.The Games were the fourth Olympic Games to be held in Japan, following the 1964 Summer Olympics (Tokyo), 1972 Winter Olympics (Sapporo), and 1998 Winter Olympics (Nagano). Tokyo became the first city in Asia to hold the Summer Olympic Games twice. The 2020 Games were the second of three consecutive Olympics to be held in East Asia, following the 2018 Winter Olympics in Pyeongchang, South Korea and preceding the 2022 Winter Olympics in Beijing, China. Due to the one-year postponement, Tokyo 2020 was the first and only Olympic Games to have been held in an odd-numbered year and the first Summer Olympics since 1900 to be held in a non-leap year.\\nNew events were introduced in existing sports, including 3x3 basketball, freestyle BMX and mixed gender team events in a number of existing sports, as well as the return of madison cycling for men and an introduction of the same event for women. New IOC policies also allowed the host organizing committee to add new sports to the Olympic program for just one Games. The disciplines added by the Japanese Olympic Committee were baseball and softball, karate, sport climbing, surfing and skateboarding, the last four of which made their Olympic debuts, and the last three of which will remain on the Olympic program.The United States topped the medal count by both total golds (39) and total medals (113), with China finishing second by both respects (38 and 89). Host nation Japan finished third, setting a record for the most gold medals and total medals ever won by their delegation at an Olympic Games with 27 and 58. Great Britain finished fourth, with a total of 22 gold and 64 medals. The Russian delegation competing as the ROC finished fifth with 20 gold medals and third in the overall medal count, with 71 medals. Bermuda, the Philippines and Qatar won their first-ever Olympic gold medals. Burkina Faso, San Marino and Turkmenistan also won their first-ever Olympic medals.'\n",
        "\"\"\"\n",
        "\n",
        "prompt = f\"\"\"\n",
        "    Based on the context below, write a JSON object that contains the number of gold and total medals for each country.\n",
        "    Context: {text}\n",
        "\"\"\"\n",
        "num_medals_dict = get_chat_completion(prompt)\n",
        "\n",
        "prompt = f\"\"\"\n",
        "    Write a brief article about the winners and losers of the Olympics based on medal count:\n",
        "    {num_medals_dict}\n",
        "\"\"\"\n",
        "summary = get_chat_completion(prompt)\n",
        "print(summary)\n",
        "\n",
        "prompt = f\"\"\"\n",
        "    Give the summary a title in 5 words:\n",
        "    {summary}\n",
        "\"\"\"\n",
        "title = get_chat_completion(prompt)\n",
        "print(title)"
      ]
    },
    {
      "cell_type": "markdown",
      "metadata": {
        "nteract": {
          "transient": {
            "deleting": false
          }
        }
      },
      "source": [
        "#### Student Task (Chaining): \n",
        "\n",
        "Your job is now to write code that will determine the country that won the most silver and bronze medals combined.\n",
        "\n",
        "We can see that the model performs poorly on answering the question directly."
      ]
    },
    {
      "cell_type": "code",
      "execution_count": 128,
      "metadata": {
        "gather": {
          "logged": 1685053948700
        },
        "jupyter": {
          "outputs_hidden": false,
          "source_hidden": false
        },
        "nteract": {
          "transient": {
            "deleting": false
          }
        }
      },
      "outputs": [
        {
          "name": "stdout",
          "output_type": "stream",
          "text": [
            "The United States had the most silver and bronze medals at the 2020 Summer Olympics, with a total of 41 silver medals and 33 bronze medals.\n"
          ]
        }
      ],
      "source": [
        "prompt = f\"\"\"\n",
        "    Based on the context, which country had the most silver and bronze medals?\n",
        "    Context: {text}\n",
        "\"\"\"\n",
        "\n",
        "print(get_chat_completion(prompt))"
      ]
    },
    {
      "cell_type": "markdown",
      "metadata": {
        "nteract": {
          "transient": {
            "deleting": false
          }
        }
      },
      "source": [
        "Write prompts in the cell below that will help the model answer the question by breaking down the tasks into different steps.\n",
        "\n",
        "You should be able to get the model to answer the question in 2-3 steps."
      ]
    },
    {
      "cell_type": "code",
      "execution_count": 137,
      "metadata": {
        "jupyter": {
          "outputs_hidden": false,
          "source_hidden": false
        },
        "nteract": {
          "transient": {
            "deleting": false
          }
        }
      },
      "outputs": [
        {
          "name": "stdout",
          "output_type": "stream",
          "text": [
            "\n",
            "[Step 1]: Sum the number of silver medals and bronze medals for each country.\n",
            "\n",
            "[Step 2]: Create a list with each country and their total number of silver and bronze medals, and the number of each medal type, sorted from highest to lowest total.\n",
            "\n",
            "Country      | Silver Medals | Bronze Medals | Total Medals\n",
            "-----------------------------------------------------------\n",
            "USA          | 50            | 40            | 90\n",
            "China        | 40            | 30            | 70\n",
            "Russia       | 30            | 35            | 65\n",
            "Germany      | 25            | 30            | 55\n",
            "...\n",
            "\n",
            "[Step 3]: Answer the question informing the list.\n",
            "\n",
            "The country that won the most silver and bronze medals combined is the USA, with a total of 90 medals (50 silver and 40 bronze).\n",
            "\n"
          ]
        }
      ],
      "source": [
        "### STUDENT TASK - WRITE CODE HERE ###\n",
        "\n",
        "\n",
        "context = '''\n",
        "        Question: determine the country that won the most silver and bronze medals combined.\n",
        "        \n",
        "\n",
        "        Chain of thought:\n",
        "\n",
        "        [Step 1]: Sum the number of silver medals and bronze medals for each country.\n",
        "        [Step 2]: Create a list with each country and their total number of silver and bronze medals, and the number of each medal type, sorted from highest to lowest total.\n",
        "        [Step 3]: Answer the question informing the list.\n",
        "        '''\n",
        "\n",
        "conversation=[{\"role\": \"system\", \"content\": context}]\n",
        "\n",
        "\n",
        "response = get_completion_from_messages(conversation)\n",
        "conversation.append({\"role\": \"assistant\", \"content\": response})\n",
        "print(\"\\n\" + response + \"\\n\")\n",
        "\n"
      ]
    }
  ],
  "metadata": {
    "kernel_info": {
      "name": "python38-azureml"
    },
    "kernelspec": {
      "display_name": "Python 3 (ipykernel)",
      "language": "python",
      "name": "python3"
    },
    "language_info": {
      "codemirror_mode": {
        "name": "ipython",
        "version": 3
      },
      "file_extension": ".py",
      "mimetype": "text/x-python",
      "name": "python",
      "nbconvert_exporter": "python",
      "pygments_lexer": "ipython3",
      "version": "3.10.13"
    },
    "microsoft": {
      "host": {
        "AzureML": {
          "notebookHasBeenCompleted": true
        }
      },
      "ms_spell_check": {
        "ms_spell_check_language": "en"
      }
    },
    "nteract": {
      "version": "nteract-front-end@1.0.0"
    }
  },
  "nbformat": 4,
  "nbformat_minor": 2
}
