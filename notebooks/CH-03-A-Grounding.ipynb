{
 "cells": [
  {
   "cell_type": "markdown",
   "metadata": {},
   "source": [
    "# Challenge 03-A-Grounding  "
   ]
  },
  {
   "cell_type": "markdown",
   "metadata": {},
   "source": [
    "## 1. Overview \n",
    "\n",
    "Grounding is a technique used when you want the model to return reliable answers to a given question. Often times, the GPT models will need additional context to provide a response that does not hallucinate, otherwise known as giving false responses. Remember that these GPT models have only been trained with data up to September 2021. In addition, the models have not been trained with use-case specific data. \n",
    "\n",
    "There are a couple of methods to go about grounding. In this scenario, we will focus mainly on basic grounding within the prompt. In task four, you will see other applications of grounding by using an external knowledge base and implementing the Retrieval Augmented Generation, or RAG technique.\n",
    "\n",
    "To understand the basics of grounding and its benefits, the notebook will walk you through an example. Below is the scenario we will incorporate.\n",
    "\n",
    "## 2. Scenario\n",
    "\n",
    "You are writing a report on the Wimbledon tennis tournament and need to discuss the latest match. Find out who the 2023 winner was for the mens and womens singles."
   ]
  },
  {
   "cell_type": "markdown",
   "metadata": {},
   "source": [
    "## 3. Let's Start Implementation\n",
    "\n",
    "You will need to import the needed modules. The following cells are key setup steps you completed in the previous tasks."
   ]
  },
  {
   "cell_type": "code",
   "execution_count": 5,
   "metadata": {},
   "outputs": [
    {
     "data": {
      "text/plain": [
       "True"
      ]
     },
     "execution_count": 5,
     "metadata": {},
     "output_type": "execute_result"
    }
   ],
   "source": [
    "import openai\n",
    "import os\n",
    "import json\n",
    "\n",
    "from dotenv import load_dotenv, find_dotenv\n",
    "load_dotenv(find_dotenv())"
   ]
  },
  {
   "cell_type": "markdown",
   "metadata": {},
   "source": [
    "Set up your environment to access your Azure OpenAI keys. Refer to your Azure OpenAI resource in the Azure Portal to retrieve information regarding your Azure OpenAI endpoint and keys. \n",
    "\n",
    "For security purposes, store your sensitive information in an .env file."
   ]
  },
  {
   "cell_type": "code",
   "execution_count": 2,
   "metadata": {},
   "outputs": [],
   "source": [
    "API_KEY = os.getenv(\"OPENAI_API_KEY\")\n",
    "assert API_KEY, \"ERROR: Azure OpenAI Key is missing\"\n",
    "openai.api_key = API_KEY\n",
    "\n",
    "RESOURCE_ENDPOINT = os.getenv(\"OPENAI_API_BASE\",\"\").strip()\n",
    "assert RESOURCE_ENDPOINT, \"ERROR: Azure OpenAI Endpoint is missing\"\n",
    "assert \"openai.azure.com\" in RESOURCE_ENDPOINT.lower(), \"ERROR: Azure OpenAI Endpoint should be in the form: \\n\\n\\t<your unique endpoint identifier>.openai.azure.com\"\n",
    "openai.api_base = RESOURCE_ENDPOINT\n",
    "\n",
    "openai.api_type = os.getenv(\"OPENAI_API_TYPE\")\n",
    "openai.api_version = os.getenv(\"OPENAI_API_VERSION\")\n",
    "\n",
    "model=os.getenv(\"CHAT_MODEL_NAME\")"
   ]
  },
  {
   "cell_type": "markdown",
   "metadata": {},
   "source": [
    "### 3.0 Helper Functions\n",
    "\n",
    "get_completion helps create openAI response using text completion model of your choice."
   ]
  },
  {
   "cell_type": "code",
   "execution_count": 6,
   "metadata": {},
   "outputs": [],
   "source": [
    "def get_chat_completion(prompt, model=model):\n",
    "    messages = [{\"role\": \"user\", \"content\": prompt}]\n",
    "    response = openai.ChatCompletion.create(\n",
    "        engine=model,\n",
    "        messages=messages,\n",
    "        temperature=0, # this is the degree of randomness of the model's output\n",
    "        max_tokens = 200,\n",
    "        top_p = 1.0\n",
    "    )\n",
    "    return response.choices[0].message[\"content\"]"
   ]
  },
  {
   "attachments": {},
   "cell_type": "markdown",
   "metadata": {},
   "source": [
    "### 3.1 Before Grounding \n",
    "\n",
    "#### Student Task #1: \n",
    "\n",
    "Edit the prompt in the cell below to ask the model a question regarding the scenario. \n",
    "\n",
    "Scenario: You are writing a report on the Wimbledon tennis tournament and need to discuss the latest match. Find out who the 2023 winner was for the mens and womens singles.\n",
    "\n",
    "Is this the response you expected?"
   ]
  },
  {
   "cell_type": "code",
   "execution_count": 18,
   "metadata": {},
   "outputs": [
    {
     "name": "stdout",
     "output_type": "stream",
     "text": [
      "Response: I'm sorry, but I cannot provide real-time information as I am an AI and my knowledge is limited to what is publicly available up to September 2021. I recommend checking the latest news or official Wimbledon website for the most recent champions of the 2023 Wimbledon Championship for the men's and women's singles.\n",
      "\n"
     ]
    }
   ],
   "source": [
    "prompt = f\"\"\"\n",
    "Who are the champions from 2023 Wimbledon Championship for the mens and the womens singles?\n",
    "\"\"\"\n",
    "\n",
    "model_response = get_chat_completion(prompt, model=model)\n",
    "print(f\"Response: {model_response}\\n\")\n"
   ]
  },
  {
   "cell_type": "code",
   "execution_count": null,
   "metadata": {},
   "outputs": [],
   "source": []
  },
  {
   "attachments": {},
   "cell_type": "markdown",
   "metadata": {},
   "source": [
    "### 3.2 After Grounding\n",
    "\n",
    "#### Student Task #2:\n",
    "\n",
    "Modify the prompt below to ground the model. How can you get a more accurate response than the one you received previously? "
   ]
  },
  {
   "cell_type": "code",
   "execution_count": 26,
   "metadata": {},
   "outputs": [
    {
     "name": "stdout",
     "output_type": "stream",
     "text": [
      "Response: The official website of Wimbledon provides a comprehensive list of winners from each year's tournament. The winners are listed by category, including Men's Singles, Women's Singles, Men's Doubles, Women's Doubles, and Mixed Doubles. The website also includes information about the runners-up and the scores of each match. Additionally, the website features profiles of past champions and their achievements at Wimbledon. Overall, the official website of Wimbledon offers a detailed and up-to-date summary of the tournament's winners.\n",
      "\n"
     ]
    }
   ],
   "source": [
    "prompt = f\"\"\"\n",
    "\"Generate a summary of the winners from official website of Wimbledon.\"\n",
    "\"\"\"\n",
    "\n",
    "model_response = get_chat_completion(prompt, model=model)\n",
    "print(f\"Response: {model_response}\\n\")\n",
    "\n"
   ]
  },
  {
   "cell_type": "code",
   "execution_count": 33,
   "metadata": {},
   "outputs": [
    {
     "name": "stdout",
     "output_type": "stream",
     "text": [
      "Response: 2018:\n",
      "Men’s singles: Novak Djokovic\n",
      "Women’s singles: Angelique Kerber\n",
      "\n",
      "2019:\n",
      "Men’s singles: Novak Djokovic\n",
      "Women’s singles: Simona Halep\n",
      "\n",
      "2020:\n",
      "The tournament was cancelled due to the COVID-19 pandemic.\n",
      "\n",
      "2021:\n",
      "Men’s singles: Novak Djokovic\n",
      "Women’s singles: Ashleigh Barty\n",
      "\n",
      "2022:\n",
      "Men’s singles: Novak Djokovic\n",
      "Women’s singles: Ashleigh Barty\n",
      "\n",
      "2023:\n",
      "Men’s singles: Carlos Alcaraz\n",
      "Women’s singles: Markéta Vondroušová\n",
      "\n"
     ]
    }
   ],
   "source": [
    "prompt = f\"\"\"\n",
    "2022 Wimbledon Championship\n",
    "\n",
    "Men’s singles: Novak Djokovic12, who won his seventh Wimbledon title by defeating Nick Kyrgios in the final.\n",
    "Women’s singles: Ashleigh Barty2, who won her first Wimbledon title by beating Karolína Plíšková in the final.\n",
    "2023 Wimbledon Championship\n",
    "\n",
    "Men’s singles: Carlos Alcaraz341, who defeated Novak Djokovic in a five-set thriller to win his second Grand Slam title.\n",
    "Women’s singles: Markéta Vondroušová35, who became the first unseeded woman to win Wimbledon by beating Ons Jabeur in straight sets.\n",
    "The official website of Wimbledon provides a comprehensive list of winners from each year's tournament. \n",
    "List the winners from Singles Category since 2018.\n",
    "\"\"\"\n",
    "\n",
    "model_response = get_chat_completion(prompt, model=model)\n",
    "print(f\"Response: {model_response}\\n\")"
   ]
  },
  {
   "cell_type": "markdown",
   "metadata": {},
   "source": [
    "Is this the answer you expected to help you write your report?"
   ]
  },
  {
   "cell_type": "markdown",
   "metadata": {},
   "source": [
    "## Success Criteria\n",
    "\n",
    "To complete this challenge successfully:\n",
    "\n",
    "* Show an understanding of model grounding and why it is important \n",
    "* Make sure you get an accurate response to your question which will help you complete the scenario described in the beginning of the challenge.\n",
    "\n"
   ]
  }
 ],
 "metadata": {
  "kernelspec": {
   "display_name": "Python 3 (ipykernel)",
   "language": "python",
   "name": "python3"
  },
  "language_info": {
   "codemirror_mode": {
    "name": "ipython",
    "version": 3
   },
   "file_extension": ".py",
   "mimetype": "text/x-python",
   "name": "python",
   "nbconvert_exporter": "python",
   "pygments_lexer": "ipython3",
   "version": "3.10.13"
  },
  "orig_nbformat": 4
 },
 "nbformat": 4,
 "nbformat_minor": 2
}
